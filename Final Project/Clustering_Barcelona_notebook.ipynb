{
    "cells": [
        {
            "metadata": {
                "collapsed": true
            },
            "cell_type": "markdown",
            "source": "# Clustering Barcelona neighborhoods\n\n### by Ian Riera Smolinska\n"
        },
        {
            "metadata": {},
            "cell_type": "markdown",
            "source": "This project is the final delivery for the [Applied Data Science Capstone](https://www.coursera.org/learn/applied-data-science-capstone) course. This course is the last one to complete the [IBM Data Science Professional Certificate](https://www.coursera.org/professional-certificates/ibm-data-science).\n\nIn addition to this notebook that presents the executed codes for the data obtention, analysis and modelling, you can acces to the following documents:\n- [Presentation]()\n- [Report]()\n- [Blog]()\n"
        },
        {
            "metadata": {},
            "cell_type": "markdown",
            "source": "## Table of contents\n* [Introduction: Business Problem](#introduction)\n* [Data](#data)\n* [Methodology](#methodology)\n* [Analysis](#analysis)\n* [Results and Discussion](#results)\n* [Conclusion](#conclusion)"
        },
        {
            "metadata": {},
            "cell_type": "markdown",
            "source": "\n\n## Introduction: Business Problem <a name=\"introduction\"></a>"
        },
        {
            "metadata": {},
            "cell_type": "markdown",
            "source": "The goal of this project is to cluster the neighborhoods of the city of **Barcelona** basing on demographic, economic and commercial characteristics to be able to understand the context of the city itself prior opening a business in it. \n\nSince the official statistics are usually objective, Foresquare will be used to obtain the commercial venues that people visited and rated in the application. \n\nAs the administrative division splits the city in **10 districts**, the neighborhoods will be grouped in 10 different clusters basing on the mentioned parameters individually. Then the correlation between the different clusterings will be calculated to try and find out dependencies. \n\nFinally, taking into account all the parameters, a final division of the city will be applied to the city."
        },
        {
            "metadata": {},
            "cell_type": "markdown",
            "source": "## Data <a name=\"data\"></a>"
        },
        {
            "metadata": {},
            "cell_type": "markdown",
            "source": "The characteristics of the neighborhoods that will be analyzed can be obtain from the webpage of the **Barcelona's city council**:\n* [Nationality](https://www.bcn.cat/estadistica/castella/dades/barris/tpob/pad/ine/a2019/ine17.htm.)\n* [Unemployment](https://www.bcn.cat/estadistica/castella/dades/barris/ttreball/atur/durada/durbar19.htm.)\n* [Local elections voting.](https://www.bcn.cat/estadistica/castella/dades/barris/telec/loc/a2019.htm.)\n* [Age](https://www.bcn.cat/estadistica/castella/dades/barris/tpob/pad/ine/a2019/ine02.htm.)\n* [Available Family Income index.](https://www.bcn.cat/estadistica/castella/dades/barris/economia/renda/rdfamiliar/a2017.htm.)\n* [Street-level commercial venues](https://www.bcn.cat/estadistica/castella/dades/barris/economia/tacteco/gacbarri19.htm.)\n\nIn addition, we will be using the **Foursquare API** to locate the different commercial venues in the city.\n\nTo represent the neighborhoods on a map, the geolocation information is required. Luckily, a geoJSON with this information already exists:\nhttps://github.com/martgnz/bcn-geodata/tree/master/barris\n\n"
        },
        {
            "metadata": {},
            "cell_type": "markdown",
            "source": "## Analysis <a name=\"analysis\"></a>"
        },
        {
            "metadata": {},
            "cell_type": "markdown",
            "source": "#### Age\n\naverage per neighborhood and make cloropleth map of administrative division. Piramide or bars."
        },
        {
            "metadata": {},
            "cell_type": "code",
            "source": "# import the required libraries\nimport pandas as pd # library for data analsysis\nimport numpy as np # library for data analsysis\nimport requests # library to handle requests\nfrom bs4 import BeautifulSoup # library for scrapping\nimport re # library for regular expresions\n\nprint('Libraries imported.')",
            "execution_count": 136,
            "outputs": [
                {
                    "output_type": "stream",
                    "text": "Libraries imported.\n",
                    "name": "stdout"
                }
            ]
        },
        {
            "metadata": {},
            "cell_type": "markdown",
            "source": "1. Data obtention. \n\nAs it is the first of six webpages that will be scraped, functions will be defined to reuse them for the next scenarios."
        },
        {
            "metadata": {},
            "cell_type": "code",
            "source": "# function to get the column names\ndef get_headers(table):\n    # to get the headers for the column names\n    table_data=\"\"\n    for tr in table.find_all('tr'):\n        row_data=\"\"\n        for tds in tr.find_all('td', {'class':'WhadsColVar1'}):\n            row_data=row_data+\";\"+tds.text\n        table_data=table_data+row_data[1:]\n    \n    # define the dataframe columns\n    column_names = [table_data.split(';')] \n    \n    return column_names",
            "execution_count": 137,
            "outputs": []
        },
        {
            "metadata": {},
            "cell_type": "code",
            "source": "# function to create a dataframe with the information from the table\ndef create_dataframe(table):\n    table_data=\"\"\n    for tr in table.find_all('tr'):\n        row_data=\"\"\n        for tds in tr.find_all('td'):\n            row_data=row_data+\";\"+tds.text\n\n        table_data=table_data+row_data[1:]+'\\n'\n        \n    # to remove the useless data at the top rows (decided by inspecting the webpage html code)\n    table_data = table_data[table_data.find(\"BARCELONA\"):]\n\n    # get the table into rows\n    table_rows = table_data.split('\\n')\n\n    # fill the dataframe with the information in each row\n    row_df = pd.DataFrame([table_rows[0].split(';')])\n    for row in table_rows[1:]:\n        data = row.split(';')\n        row_df = row_df.append(pd.DataFrame([data]),ignore_index=True)\n\n    return row_df",
            "execution_count": 138,
            "outputs": []
        },
        {
            "metadata": {},
            "cell_type": "code",
            "source": "# function to webscrape the web page, obtain the headers, create and fill the dataframe\ndef web_to_dataframe(web_page):\n    # get the webpage we want to analyze\n    source = requests.get(web_page, verify=False).text\n    \n    # apply the scraper on the webpage\n    soup = BeautifulSoup(source)\n  \n    # extract the table from the webpage\n    table = soup.find('table')\n       \n    df = create_dataframe(table)\n    \n    headers = get_headers(table)\n\n    df.columns = headers\n    \n    return df, headers",
            "execution_count": 139,
            "outputs": []
        },
        {
            "metadata": {},
            "cell_type": "code",
            "source": "  # soup = BeautifulSoup.BeautifulSoup(content.decode('utf-8','ignore'))\n    #r = urllib.request.urlopen(web_page)\n    #soup = BeautifulSoup.BeautifulSoup(r.read)\n    #r = requests.get(web_page, verify=False)\n    #r.encoding = 'cp1252'\n    \n    # second try\n    # This restores the same behavior as before.\n    #req = urllib2.Request(url, headers={ 'X-Mashape-Key': 'XXXXXXXXXXXXXXXXXXXXXXXXXXXXXXX' })\n    #gcontext = ssl.SSLContext()  # Only for gangstars\n    #info = urllib2.urlopen(req, context=gcontext).read()\n    #Message.Chat.SendMessage (\"\" + info)\n    \n\n\n    ",
            "execution_count": 5,
            "outputs": []
        },
        {
            "metadata": {},
            "cell_type": "code",
            "source": "web_age = 'http://www.bcn.cat/estadistica/castella/dades/barris/tpob/pad/ine/a2019/ine02.htm'\n\ndf_age, headers_age = web_to_dataframe(web_age)\n\ndf_age.head()",
            "execution_count": 140,
            "outputs": [
                {
                    "output_type": "stream",
                    "text": "/opt/conda/envs/Python36/lib/python3.6/site-packages/urllib3/connectionpool.py:847: InsecureRequestWarning: Unverified HTTPS request is being made. Adding certificate verification is strongly advised. See: https://urllib3.readthedocs.io/en/latest/advanced-usage.html#ssl-warnings\n  InsecureRequestWarning)\n",
                    "name": "stderr"
                },
                {
                    "output_type": "execute_result",
                    "execution_count": 140,
                    "data": {
                        "text/plain": "           Dto.\u00a0\u00a0\u00a0\u00a0\u00a0Barrio\u00a0\u00a0      TOTAL\u00a0\u00a0  0 a\u00f1os\u00a0\u00a0   1 a\u00f1o\u00a0\u00a0  2 a\u00f1os\u00a0\u00a0  \\\n0      BARCELONA\u00a0\u00a0\u00a0\u00a0\u00a0\u00a0\u00a0\u00a0\u00a0\u00a0\u00a0\u00a0  1.636.762\u00a0\u00a0  12.584\u00a0\u00a0  13.409\u00a0\u00a0  13.299\u00a0\u00a0   \n1          \u00a0\u00a0\u00a0\u00a0\u00a0\u00a0\u00a0\u00a0\u00a0\u00a0\u00a0\u00a0\u00a0\u00a0\u00a0\u00a0\u00a0            \u00a0         \u00a0         \u00a0         \u00a0   \n2        1\u00a0\u00a0\u00a0\u00a0\u00a01. el Raval\u00a0\u00a0     47.353\u00a0\u00a0     415\u00a0\u00a0     467\u00a0\u00a0     408\u00a0\u00a0   \n3  1\u00a0\u00a0\u00a0\u00a0\u00a02. el Barri G\u00f2tic\u00a0\u00a0     18.629\u00a0\u00a0     116\u00a0\u00a0     115\u00a0\u00a0      91\u00a0\u00a0   \n4  1\u00a0\u00a0\u00a0\u00a0\u00a03. la Barceloneta\u00a0\u00a0     14.857\u00a0\u00a0      77\u00a0\u00a0      96\u00a0\u00a0      78\u00a0\u00a0   \n\n   3 a\u00f1os\u00a0\u00a0  4 a\u00f1os\u00a0\u00a0  5 a\u00f1os\u00a0\u00a0  6 a\u00f1os\u00a0\u00a0  7 a\u00f1os\u00a0\u00a0  ... 86 a\u00f1os\u00a0\u00a0 87 a\u00f1os\u00a0\u00a0  \\\n0  13.618\u00a0\u00a0  13.531\u00a0\u00a0  13.417\u00a0\u00a0  13.844\u00a0\u00a0  13.840\u00a0\u00a0  ...   9.365\u00a0\u00a0   8.533\u00a0\u00a0   \n1         \u00a0         \u00a0         \u00a0         \u00a0         \u00a0  ...         \u00a0         \u00a0   \n2     404\u00a0\u00a0     374\u00a0\u00a0     383\u00a0\u00a0     425\u00a0\u00a0     442\u00a0\u00a0  ...     143\u00a0\u00a0     122\u00a0\u00a0   \n3      96\u00a0\u00a0      88\u00a0\u00a0      97\u00a0\u00a0      96\u00a0\u00a0      96\u00a0\u00a0  ...      47\u00a0\u00a0      58\u00a0\u00a0   \n4      85\u00a0\u00a0      73\u00a0\u00a0      84\u00a0\u00a0      65\u00a0\u00a0      65\u00a0\u00a0  ...      86\u00a0\u00a0      71\u00a0\u00a0   \n\n  88 a\u00f1os\u00a0\u00a0 89 a\u00f1os\u00a0\u00a0 90 a\u00f1os\u00a0\u00a0 91 a\u00f1os\u00a0\u00a0 92 a\u00f1os\u00a0\u00a0 93 a\u00f1os\u00a0\u00a0 94 a\u00f1os\u00a0\u00a0  \\\n0   7.863\u00a0\u00a0   6.521\u00a0\u00a0   5.498\u00a0\u00a0   4.733\u00a0\u00a0   4.032\u00a0\u00a0   3.184\u00a0\u00a0   2.497\u00a0\u00a0   \n1         \u00a0         \u00a0         \u00a0         \u00a0         \u00a0         \u00a0         \u00a0   \n2     100\u00a0\u00a0     100\u00a0\u00a0      90\u00a0\u00a0      73\u00a0\u00a0      71\u00a0\u00a0      62\u00a0\u00a0      42\u00a0\u00a0   \n3      55\u00a0\u00a0      39\u00a0\u00a0      26\u00a0\u00a0      31\u00a0\u00a0      31\u00a0\u00a0      26\u00a0\u00a0      23\u00a0\u00a0   \n4      75\u00a0\u00a0      43\u00a0\u00a0      37\u00a0\u00a0      43\u00a0\u00a0      26\u00a0\u00a0      21\u00a0\u00a0      28\u00a0\u00a0   \n\n  95 a\u00f1os\u00a0\u00a0  \n0   1.835\u00a0\u00a0  \n1         \u00a0  \n2      24\u00a0\u00a0  \n3      16\u00a0\u00a0  \n4      13\u00a0\u00a0  \n\n[5 rows x 98 columns]",
                        "text/html": "<div>\n<style scoped>\n    .dataframe tbody tr th:only-of-type {\n        vertical-align: middle;\n    }\n\n    .dataframe tbody tr th {\n        vertical-align: top;\n    }\n\n    .dataframe thead tr th {\n        text-align: left;\n    }\n</style>\n<table border=\"1\" class=\"dataframe\">\n  <thead>\n    <tr>\n      <th></th>\n      <th>Dto.\u00a0\u00a0\u00a0\u00a0\u00a0Barrio</th>\n      <th>TOTAL</th>\n      <th>0 a\u00f1os</th>\n      <th>1 a\u00f1o</th>\n      <th>2 a\u00f1os</th>\n      <th>3 a\u00f1os</th>\n      <th>4 a\u00f1os</th>\n      <th>5 a\u00f1os</th>\n      <th>6 a\u00f1os</th>\n      <th>7 a\u00f1os</th>\n      <th>...</th>\n      <th>86 a\u00f1os</th>\n      <th>87 a\u00f1os</th>\n      <th>88 a\u00f1os</th>\n      <th>89 a\u00f1os</th>\n      <th>90 a\u00f1os</th>\n      <th>91 a\u00f1os</th>\n      <th>92 a\u00f1os</th>\n      <th>93 a\u00f1os</th>\n      <th>94 a\u00f1os</th>\n      <th>95 a\u00f1os</th>\n    </tr>\n  </thead>\n  <tbody>\n    <tr>\n      <th>0</th>\n      <td>BARCELONA</td>\n      <td>1.636.762</td>\n      <td>12.584</td>\n      <td>13.409</td>\n      <td>13.299</td>\n      <td>13.618</td>\n      <td>13.531</td>\n      <td>13.417</td>\n      <td>13.844</td>\n      <td>13.840</td>\n      <td>...</td>\n      <td>9.365</td>\n      <td>8.533</td>\n      <td>7.863</td>\n      <td>6.521</td>\n      <td>5.498</td>\n      <td>4.733</td>\n      <td>4.032</td>\n      <td>3.184</td>\n      <td>2.497</td>\n      <td>1.835</td>\n    </tr>\n    <tr>\n      <th>1</th>\n      <td></td>\n      <td></td>\n      <td></td>\n      <td></td>\n      <td></td>\n      <td></td>\n      <td></td>\n      <td></td>\n      <td></td>\n      <td></td>\n      <td>...</td>\n      <td></td>\n      <td></td>\n      <td></td>\n      <td></td>\n      <td></td>\n      <td></td>\n      <td></td>\n      <td></td>\n      <td></td>\n      <td></td>\n    </tr>\n    <tr>\n      <th>2</th>\n      <td>1\u00a0\u00a0\u00a0\u00a0\u00a01. el Raval</td>\n      <td>47.353</td>\n      <td>415</td>\n      <td>467</td>\n      <td>408</td>\n      <td>404</td>\n      <td>374</td>\n      <td>383</td>\n      <td>425</td>\n      <td>442</td>\n      <td>...</td>\n      <td>143</td>\n      <td>122</td>\n      <td>100</td>\n      <td>100</td>\n      <td>90</td>\n      <td>73</td>\n      <td>71</td>\n      <td>62</td>\n      <td>42</td>\n      <td>24</td>\n    </tr>\n    <tr>\n      <th>3</th>\n      <td>1\u00a0\u00a0\u00a0\u00a0\u00a02. el Barri G\u00f2tic</td>\n      <td>18.629</td>\n      <td>116</td>\n      <td>115</td>\n      <td>91</td>\n      <td>96</td>\n      <td>88</td>\n      <td>97</td>\n      <td>96</td>\n      <td>96</td>\n      <td>...</td>\n      <td>47</td>\n      <td>58</td>\n      <td>55</td>\n      <td>39</td>\n      <td>26</td>\n      <td>31</td>\n      <td>31</td>\n      <td>26</td>\n      <td>23</td>\n      <td>16</td>\n    </tr>\n    <tr>\n      <th>4</th>\n      <td>1\u00a0\u00a0\u00a0\u00a0\u00a03. la Barceloneta</td>\n      <td>14.857</td>\n      <td>77</td>\n      <td>96</td>\n      <td>78</td>\n      <td>85</td>\n      <td>73</td>\n      <td>84</td>\n      <td>65</td>\n      <td>65</td>\n      <td>...</td>\n      <td>86</td>\n      <td>71</td>\n      <td>75</td>\n      <td>43</td>\n      <td>37</td>\n      <td>43</td>\n      <td>26</td>\n      <td>21</td>\n      <td>28</td>\n      <td>13</td>\n    </tr>\n  </tbody>\n</table>\n<p>5 rows \u00d7 98 columns</p>\n</div>"
                    },
                    "metadata": {}
                }
            ]
        },
        {
            "metadata": {},
            "cell_type": "markdown",
            "source": "2. Data processing:\n\nFirst of all we will drop the missing values and translate to english."
        },
        {
            "metadata": {},
            "cell_type": "code",
            "source": "# drop missing values, empty row and Barcelona totals row, as we can calculate the values when we need them\ndf_age = df_age.dropna()\ndf_age.drop(df_age.index[1],inplace=True)\ndf_age.drop(df_age.index[0],inplace=True)\n# reset index\ndf_age.reset_index(drop=True, inplace=True)\n\n# remove 'a\u00f1os' from the columns name\ndf_age.rename(columns=lambda x:re.sub(r'a\u00f1o.', '', x), inplace=True)\n\n# trim to remove spaces\ndf_age = df_age.applymap(lambda x: x.strip() if isinstance(x, str) else x)\ndf_age = df_age.rename(columns=lambda x: x.strip())\n\ndf_age.rename(columns={\"TOTAL\":\"Population\"}, inplace = True)\n\ndf_age.head()",
            "execution_count": 141,
            "outputs": [
                {
                    "output_type": "execute_result",
                    "execution_count": 141,
                    "data": {
                        "text/plain": "                                  Dto.\u00a0\u00a0\u00a0\u00a0\u00a0Barrio Population    0    1    2  \\\n0                               1\u00a0\u00a0\u00a0\u00a0\u00a01. el Raval     47.353  415  467  408   \n1                         1\u00a0\u00a0\u00a0\u00a0\u00a02. el Barri G\u00f2tic     18.629  116  115   91   \n2                         1\u00a0\u00a0\u00a0\u00a0\u00a03. la Barceloneta     14.857   77   96   78   \n3  1\u00a0\u00a0\u00a0\u00a0\u00a04. Sant Pere, Santa Caterina i la Ribera     22.590  139  161  140   \n4                          2\u00a0\u00a0\u00a0\u00a0\u00a05. el Fort Pienc     32.349  251  230  233   \n\n     3    4    5    6    7  ...   86   87   88   89   90   91  92  93  94  95  \n0  404  374  383  425  442  ...  143  122  100  100   90   73  71  62  42  24  \n1   96   88   97   96   96  ...   47   58   55   39   26   31  31  26  23  16  \n2   85   73   84   65   65  ...   86   71   75   43   37   43  26  21  28  13  \n3  142  133  137  147  162  ...  104   81   85   50   56   45  29  23  29  20  \n4  252  257  239  277  234  ...  185  185  157  144  108  102  72  72  53  49  \n\n[5 rows x 98 columns]",
                        "text/html": "<div>\n<style scoped>\n    .dataframe tbody tr th:only-of-type {\n        vertical-align: middle;\n    }\n\n    .dataframe tbody tr th {\n        vertical-align: top;\n    }\n\n    .dataframe thead tr th {\n        text-align: left;\n    }\n</style>\n<table border=\"1\" class=\"dataframe\">\n  <thead>\n    <tr>\n      <th></th>\n      <th>Dto.\u00a0\u00a0\u00a0\u00a0\u00a0Barrio</th>\n      <th>Population</th>\n      <th>0</th>\n      <th>1</th>\n      <th>2</th>\n      <th>3</th>\n      <th>4</th>\n      <th>5</th>\n      <th>6</th>\n      <th>7</th>\n      <th>...</th>\n      <th>86</th>\n      <th>87</th>\n      <th>88</th>\n      <th>89</th>\n      <th>90</th>\n      <th>91</th>\n      <th>92</th>\n      <th>93</th>\n      <th>94</th>\n      <th>95</th>\n    </tr>\n  </thead>\n  <tbody>\n    <tr>\n      <th>0</th>\n      <td>1\u00a0\u00a0\u00a0\u00a0\u00a01. el Raval</td>\n      <td>47.353</td>\n      <td>415</td>\n      <td>467</td>\n      <td>408</td>\n      <td>404</td>\n      <td>374</td>\n      <td>383</td>\n      <td>425</td>\n      <td>442</td>\n      <td>...</td>\n      <td>143</td>\n      <td>122</td>\n      <td>100</td>\n      <td>100</td>\n      <td>90</td>\n      <td>73</td>\n      <td>71</td>\n      <td>62</td>\n      <td>42</td>\n      <td>24</td>\n    </tr>\n    <tr>\n      <th>1</th>\n      <td>1\u00a0\u00a0\u00a0\u00a0\u00a02. el Barri G\u00f2tic</td>\n      <td>18.629</td>\n      <td>116</td>\n      <td>115</td>\n      <td>91</td>\n      <td>96</td>\n      <td>88</td>\n      <td>97</td>\n      <td>96</td>\n      <td>96</td>\n      <td>...</td>\n      <td>47</td>\n      <td>58</td>\n      <td>55</td>\n      <td>39</td>\n      <td>26</td>\n      <td>31</td>\n      <td>31</td>\n      <td>26</td>\n      <td>23</td>\n      <td>16</td>\n    </tr>\n    <tr>\n      <th>2</th>\n      <td>1\u00a0\u00a0\u00a0\u00a0\u00a03. la Barceloneta</td>\n      <td>14.857</td>\n      <td>77</td>\n      <td>96</td>\n      <td>78</td>\n      <td>85</td>\n      <td>73</td>\n      <td>84</td>\n      <td>65</td>\n      <td>65</td>\n      <td>...</td>\n      <td>86</td>\n      <td>71</td>\n      <td>75</td>\n      <td>43</td>\n      <td>37</td>\n      <td>43</td>\n      <td>26</td>\n      <td>21</td>\n      <td>28</td>\n      <td>13</td>\n    </tr>\n    <tr>\n      <th>3</th>\n      <td>1\u00a0\u00a0\u00a0\u00a0\u00a04. Sant Pere, Santa Caterina i la Ribera</td>\n      <td>22.590</td>\n      <td>139</td>\n      <td>161</td>\n      <td>140</td>\n      <td>142</td>\n      <td>133</td>\n      <td>137</td>\n      <td>147</td>\n      <td>162</td>\n      <td>...</td>\n      <td>104</td>\n      <td>81</td>\n      <td>85</td>\n      <td>50</td>\n      <td>56</td>\n      <td>45</td>\n      <td>29</td>\n      <td>23</td>\n      <td>29</td>\n      <td>20</td>\n    </tr>\n    <tr>\n      <th>4</th>\n      <td>2\u00a0\u00a0\u00a0\u00a0\u00a05. el Fort Pienc</td>\n      <td>32.349</td>\n      <td>251</td>\n      <td>230</td>\n      <td>233</td>\n      <td>252</td>\n      <td>257</td>\n      <td>239</td>\n      <td>277</td>\n      <td>234</td>\n      <td>...</td>\n      <td>185</td>\n      <td>185</td>\n      <td>157</td>\n      <td>144</td>\n      <td>108</td>\n      <td>102</td>\n      <td>72</td>\n      <td>72</td>\n      <td>53</td>\n      <td>49</td>\n    </tr>\n  </tbody>\n</table>\n<p>5 rows \u00d7 98 columns</p>\n</div>"
                    },
                    "metadata": {}
                }
            ]
        },
        {
            "metadata": {},
            "cell_type": "code",
            "source": "# split the content of first column into multiples to get district and neighborhood id's\ns = df_age.iloc[:,0]\nnew = s.str.split( n = 1, expand = True) \n\n# add column to desired position\ndf_age.insert(0, 'District', new[0])\ndf_age.insert(1, 'Neighborhood', new[1])\n\n#drop orignal column\ndf_age.drop(df_age.columns[[2]], axis = 1, inplace = True)\n\ndf_age.head()",
            "execution_count": 142,
            "outputs": [
                {
                    "output_type": "execute_result",
                    "execution_count": 142,
                    "data": {
                        "text/plain": "  District                              Neighborhood Population    0    1  \\\n0        1                               1. el Raval     47.353  415  467   \n1        1                         2. el Barri G\u00f2tic     18.629  116  115   \n2        1                         3. la Barceloneta     14.857   77   96   \n3        1  4. Sant Pere, Santa Caterina i la Ribera     22.590  139  161   \n4        2                          5. el Fort Pienc     32.349  251  230   \n\n     2    3    4    5    6  ...   86   87   88   89   90   91  92  93  94  95  \n0  408  404  374  383  425  ...  143  122  100  100   90   73  71  62  42  24  \n1   91   96   88   97   96  ...   47   58   55   39   26   31  31  26  23  16  \n2   78   85   73   84   65  ...   86   71   75   43   37   43  26  21  28  13  \n3  140  142  133  137  147  ...  104   81   85   50   56   45  29  23  29  20  \n4  233  252  257  239  277  ...  185  185  157  144  108  102  72  72  53  49  \n\n[5 rows x 99 columns]",
                        "text/html": "<div>\n<style scoped>\n    .dataframe tbody tr th:only-of-type {\n        vertical-align: middle;\n    }\n\n    .dataframe tbody tr th {\n        vertical-align: top;\n    }\n\n    .dataframe thead tr th {\n        text-align: left;\n    }\n</style>\n<table border=\"1\" class=\"dataframe\">\n  <thead>\n    <tr>\n      <th></th>\n      <th>District</th>\n      <th>Neighborhood</th>\n      <th>Population</th>\n      <th>0</th>\n      <th>1</th>\n      <th>2</th>\n      <th>3</th>\n      <th>4</th>\n      <th>5</th>\n      <th>6</th>\n      <th>...</th>\n      <th>86</th>\n      <th>87</th>\n      <th>88</th>\n      <th>89</th>\n      <th>90</th>\n      <th>91</th>\n      <th>92</th>\n      <th>93</th>\n      <th>94</th>\n      <th>95</th>\n    </tr>\n  </thead>\n  <tbody>\n    <tr>\n      <th>0</th>\n      <td>1</td>\n      <td>1. el Raval</td>\n      <td>47.353</td>\n      <td>415</td>\n      <td>467</td>\n      <td>408</td>\n      <td>404</td>\n      <td>374</td>\n      <td>383</td>\n      <td>425</td>\n      <td>...</td>\n      <td>143</td>\n      <td>122</td>\n      <td>100</td>\n      <td>100</td>\n      <td>90</td>\n      <td>73</td>\n      <td>71</td>\n      <td>62</td>\n      <td>42</td>\n      <td>24</td>\n    </tr>\n    <tr>\n      <th>1</th>\n      <td>1</td>\n      <td>2. el Barri G\u00f2tic</td>\n      <td>18.629</td>\n      <td>116</td>\n      <td>115</td>\n      <td>91</td>\n      <td>96</td>\n      <td>88</td>\n      <td>97</td>\n      <td>96</td>\n      <td>...</td>\n      <td>47</td>\n      <td>58</td>\n      <td>55</td>\n      <td>39</td>\n      <td>26</td>\n      <td>31</td>\n      <td>31</td>\n      <td>26</td>\n      <td>23</td>\n      <td>16</td>\n    </tr>\n    <tr>\n      <th>2</th>\n      <td>1</td>\n      <td>3. la Barceloneta</td>\n      <td>14.857</td>\n      <td>77</td>\n      <td>96</td>\n      <td>78</td>\n      <td>85</td>\n      <td>73</td>\n      <td>84</td>\n      <td>65</td>\n      <td>...</td>\n      <td>86</td>\n      <td>71</td>\n      <td>75</td>\n      <td>43</td>\n      <td>37</td>\n      <td>43</td>\n      <td>26</td>\n      <td>21</td>\n      <td>28</td>\n      <td>13</td>\n    </tr>\n    <tr>\n      <th>3</th>\n      <td>1</td>\n      <td>4. Sant Pere, Santa Caterina i la Ribera</td>\n      <td>22.590</td>\n      <td>139</td>\n      <td>161</td>\n      <td>140</td>\n      <td>142</td>\n      <td>133</td>\n      <td>137</td>\n      <td>147</td>\n      <td>...</td>\n      <td>104</td>\n      <td>81</td>\n      <td>85</td>\n      <td>50</td>\n      <td>56</td>\n      <td>45</td>\n      <td>29</td>\n      <td>23</td>\n      <td>29</td>\n      <td>20</td>\n    </tr>\n    <tr>\n      <th>4</th>\n      <td>2</td>\n      <td>5. el Fort Pienc</td>\n      <td>32.349</td>\n      <td>251</td>\n      <td>230</td>\n      <td>233</td>\n      <td>252</td>\n      <td>257</td>\n      <td>239</td>\n      <td>277</td>\n      <td>...</td>\n      <td>185</td>\n      <td>185</td>\n      <td>157</td>\n      <td>144</td>\n      <td>108</td>\n      <td>102</td>\n      <td>72</td>\n      <td>72</td>\n      <td>53</td>\n      <td>49</td>\n    </tr>\n  </tbody>\n</table>\n<p>5 rows \u00d7 99 columns</p>\n</div>"
                    },
                    "metadata": {}
                }
            ]
        },
        {
            "metadata": {},
            "cell_type": "code",
            "source": "# iterate again for neigborhood column to get neighborhood id\ns = df_age.iloc[:,1]\nnew = s.str.split(pat = '.', n = 1, expand = True) \n\ndf_age.insert(1, 'Neighborhood_ID', new[0])\ndf_age.insert(2, 'Neighborhood_name', new[1])\n\ndf_age.drop(df_age.columns[[3]], axis = 1, inplace = True)\n\ndf_age.head()",
            "execution_count": 143,
            "outputs": [
                {
                    "output_type": "execute_result",
                    "execution_count": 143,
                    "data": {
                        "text/plain": "  District Neighborhood_ID                       Neighborhood_name Population  \\\n0        1               1                                el Raval     47.353   \n1        1               2                          el Barri G\u00f2tic     18.629   \n2        1               3                          la Barceloneta     14.857   \n3        1               4   Sant Pere, Santa Caterina i la Ribera     22.590   \n4        2               5                           el Fort Pienc     32.349   \n\n     0    1    2    3    4    5  ...   86   87   88   89   90   91  92  93  \\\n0  415  467  408  404  374  383  ...  143  122  100  100   90   73  71  62   \n1  116  115   91   96   88   97  ...   47   58   55   39   26   31  31  26   \n2   77   96   78   85   73   84  ...   86   71   75   43   37   43  26  21   \n3  139  161  140  142  133  137  ...  104   81   85   50   56   45  29  23   \n4  251  230  233  252  257  239  ...  185  185  157  144  108  102  72  72   \n\n   94  95  \n0  42  24  \n1  23  16  \n2  28  13  \n3  29  20  \n4  53  49  \n\n[5 rows x 100 columns]",
                        "text/html": "<div>\n<style scoped>\n    .dataframe tbody tr th:only-of-type {\n        vertical-align: middle;\n    }\n\n    .dataframe tbody tr th {\n        vertical-align: top;\n    }\n\n    .dataframe thead tr th {\n        text-align: left;\n    }\n</style>\n<table border=\"1\" class=\"dataframe\">\n  <thead>\n    <tr>\n      <th></th>\n      <th>District</th>\n      <th>Neighborhood_ID</th>\n      <th>Neighborhood_name</th>\n      <th>Population</th>\n      <th>0</th>\n      <th>1</th>\n      <th>2</th>\n      <th>3</th>\n      <th>4</th>\n      <th>5</th>\n      <th>...</th>\n      <th>86</th>\n      <th>87</th>\n      <th>88</th>\n      <th>89</th>\n      <th>90</th>\n      <th>91</th>\n      <th>92</th>\n      <th>93</th>\n      <th>94</th>\n      <th>95</th>\n    </tr>\n  </thead>\n  <tbody>\n    <tr>\n      <th>0</th>\n      <td>1</td>\n      <td>1</td>\n      <td>el Raval</td>\n      <td>47.353</td>\n      <td>415</td>\n      <td>467</td>\n      <td>408</td>\n      <td>404</td>\n      <td>374</td>\n      <td>383</td>\n      <td>...</td>\n      <td>143</td>\n      <td>122</td>\n      <td>100</td>\n      <td>100</td>\n      <td>90</td>\n      <td>73</td>\n      <td>71</td>\n      <td>62</td>\n      <td>42</td>\n      <td>24</td>\n    </tr>\n    <tr>\n      <th>1</th>\n      <td>1</td>\n      <td>2</td>\n      <td>el Barri G\u00f2tic</td>\n      <td>18.629</td>\n      <td>116</td>\n      <td>115</td>\n      <td>91</td>\n      <td>96</td>\n      <td>88</td>\n      <td>97</td>\n      <td>...</td>\n      <td>47</td>\n      <td>58</td>\n      <td>55</td>\n      <td>39</td>\n      <td>26</td>\n      <td>31</td>\n      <td>31</td>\n      <td>26</td>\n      <td>23</td>\n      <td>16</td>\n    </tr>\n    <tr>\n      <th>2</th>\n      <td>1</td>\n      <td>3</td>\n      <td>la Barceloneta</td>\n      <td>14.857</td>\n      <td>77</td>\n      <td>96</td>\n      <td>78</td>\n      <td>85</td>\n      <td>73</td>\n      <td>84</td>\n      <td>...</td>\n      <td>86</td>\n      <td>71</td>\n      <td>75</td>\n      <td>43</td>\n      <td>37</td>\n      <td>43</td>\n      <td>26</td>\n      <td>21</td>\n      <td>28</td>\n      <td>13</td>\n    </tr>\n    <tr>\n      <th>3</th>\n      <td>1</td>\n      <td>4</td>\n      <td>Sant Pere, Santa Caterina i la Ribera</td>\n      <td>22.590</td>\n      <td>139</td>\n      <td>161</td>\n      <td>140</td>\n      <td>142</td>\n      <td>133</td>\n      <td>137</td>\n      <td>...</td>\n      <td>104</td>\n      <td>81</td>\n      <td>85</td>\n      <td>50</td>\n      <td>56</td>\n      <td>45</td>\n      <td>29</td>\n      <td>23</td>\n      <td>29</td>\n      <td>20</td>\n    </tr>\n    <tr>\n      <th>4</th>\n      <td>2</td>\n      <td>5</td>\n      <td>el Fort Pienc</td>\n      <td>32.349</td>\n      <td>251</td>\n      <td>230</td>\n      <td>233</td>\n      <td>252</td>\n      <td>257</td>\n      <td>239</td>\n      <td>...</td>\n      <td>185</td>\n      <td>185</td>\n      <td>157</td>\n      <td>144</td>\n      <td>108</td>\n      <td>102</td>\n      <td>72</td>\n      <td>72</td>\n      <td>53</td>\n      <td>49</td>\n    </tr>\n  </tbody>\n</table>\n<p>5 rows \u00d7 100 columns</p>\n</div>"
                    },
                    "metadata": {}
                }
            ]
        },
        {
            "metadata": {},
            "cell_type": "code",
            "source": "# remove ''.' from the numerical values and cast them as integers\ndf_age = df_age.apply(lambda x: x.str.replace('.',''))\ndf_age[df_age.columns[3:]] = df_age[df_age.columns[3:]].astype(int)\n\ndf_age.head()",
            "execution_count": 144,
            "outputs": [
                {
                    "output_type": "execute_result",
                    "execution_count": 144,
                    "data": {
                        "text/plain": "  District Neighborhood_ID                       Neighborhood_name Population  \\\n0        1               1                                el Raval      47353   \n1        1               2                          el Barri G\u00f2tic      18629   \n2        1               3                          la Barceloneta      14857   \n3        1               4   Sant Pere, Santa Caterina i la Ribera      22590   \n4        2               5                           el Fort Pienc      32349   \n\n     0    1    2    3    4    5  ...   86   87   88   89   90   91  92  93  \\\n0  415  467  408  404  374  383  ...  143  122  100  100   90   73  71  62   \n1  116  115   91   96   88   97  ...   47   58   55   39   26   31  31  26   \n2   77   96   78   85   73   84  ...   86   71   75   43   37   43  26  21   \n3  139  161  140  142  133  137  ...  104   81   85   50   56   45  29  23   \n4  251  230  233  252  257  239  ...  185  185  157  144  108  102  72  72   \n\n   94  95  \n0  42  24  \n1  23  16  \n2  28  13  \n3  29  20  \n4  53  49  \n\n[5 rows x 100 columns]",
                        "text/html": "<div>\n<style scoped>\n    .dataframe tbody tr th:only-of-type {\n        vertical-align: middle;\n    }\n\n    .dataframe tbody tr th {\n        vertical-align: top;\n    }\n\n    .dataframe thead tr th {\n        text-align: left;\n    }\n</style>\n<table border=\"1\" class=\"dataframe\">\n  <thead>\n    <tr>\n      <th></th>\n      <th>District</th>\n      <th>Neighborhood_ID</th>\n      <th>Neighborhood_name</th>\n      <th>Population</th>\n      <th>0</th>\n      <th>1</th>\n      <th>2</th>\n      <th>3</th>\n      <th>4</th>\n      <th>5</th>\n      <th>...</th>\n      <th>86</th>\n      <th>87</th>\n      <th>88</th>\n      <th>89</th>\n      <th>90</th>\n      <th>91</th>\n      <th>92</th>\n      <th>93</th>\n      <th>94</th>\n      <th>95</th>\n    </tr>\n  </thead>\n  <tbody>\n    <tr>\n      <th>0</th>\n      <td>1</td>\n      <td>1</td>\n      <td>el Raval</td>\n      <td>47353</td>\n      <td>415</td>\n      <td>467</td>\n      <td>408</td>\n      <td>404</td>\n      <td>374</td>\n      <td>383</td>\n      <td>...</td>\n      <td>143</td>\n      <td>122</td>\n      <td>100</td>\n      <td>100</td>\n      <td>90</td>\n      <td>73</td>\n      <td>71</td>\n      <td>62</td>\n      <td>42</td>\n      <td>24</td>\n    </tr>\n    <tr>\n      <th>1</th>\n      <td>1</td>\n      <td>2</td>\n      <td>el Barri G\u00f2tic</td>\n      <td>18629</td>\n      <td>116</td>\n      <td>115</td>\n      <td>91</td>\n      <td>96</td>\n      <td>88</td>\n      <td>97</td>\n      <td>...</td>\n      <td>47</td>\n      <td>58</td>\n      <td>55</td>\n      <td>39</td>\n      <td>26</td>\n      <td>31</td>\n      <td>31</td>\n      <td>26</td>\n      <td>23</td>\n      <td>16</td>\n    </tr>\n    <tr>\n      <th>2</th>\n      <td>1</td>\n      <td>3</td>\n      <td>la Barceloneta</td>\n      <td>14857</td>\n      <td>77</td>\n      <td>96</td>\n      <td>78</td>\n      <td>85</td>\n      <td>73</td>\n      <td>84</td>\n      <td>...</td>\n      <td>86</td>\n      <td>71</td>\n      <td>75</td>\n      <td>43</td>\n      <td>37</td>\n      <td>43</td>\n      <td>26</td>\n      <td>21</td>\n      <td>28</td>\n      <td>13</td>\n    </tr>\n    <tr>\n      <th>3</th>\n      <td>1</td>\n      <td>4</td>\n      <td>Sant Pere, Santa Caterina i la Ribera</td>\n      <td>22590</td>\n      <td>139</td>\n      <td>161</td>\n      <td>140</td>\n      <td>142</td>\n      <td>133</td>\n      <td>137</td>\n      <td>...</td>\n      <td>104</td>\n      <td>81</td>\n      <td>85</td>\n      <td>50</td>\n      <td>56</td>\n      <td>45</td>\n      <td>29</td>\n      <td>23</td>\n      <td>29</td>\n      <td>20</td>\n    </tr>\n    <tr>\n      <th>4</th>\n      <td>2</td>\n      <td>5</td>\n      <td>el Fort Pienc</td>\n      <td>32349</td>\n      <td>251</td>\n      <td>230</td>\n      <td>233</td>\n      <td>252</td>\n      <td>257</td>\n      <td>239</td>\n      <td>...</td>\n      <td>185</td>\n      <td>185</td>\n      <td>157</td>\n      <td>144</td>\n      <td>108</td>\n      <td>102</td>\n      <td>72</td>\n      <td>72</td>\n      <td>53</td>\n      <td>49</td>\n    </tr>\n  </tbody>\n</table>\n<p>5 rows \u00d7 100 columns</p>\n</div>"
                    },
                    "metadata": {}
                }
            ]
        },
        {
            "metadata": {},
            "cell_type": "markdown",
            "source": "We will also create a Global dataframe with the city information, let this be the district id, neighborhood's id and name, and the number of inhabitants."
        },
        {
            "metadata": {},
            "cell_type": "code",
            "source": "df_BCN = df_age.iloc[:,:4]\ndf_BCN.head()",
            "execution_count": 145,
            "outputs": [
                {
                    "output_type": "execute_result",
                    "execution_count": 145,
                    "data": {
                        "text/plain": "  District Neighborhood_ID                       Neighborhood_name Population\n0        1               1                                el Raval      47353\n1        1               2                          el Barri G\u00f2tic      18629\n2        1               3                          la Barceloneta      14857\n3        1               4   Sant Pere, Santa Caterina i la Ribera      22590\n4        2               5                           el Fort Pienc      32349",
                        "text/html": "<div>\n<style scoped>\n    .dataframe tbody tr th:only-of-type {\n        vertical-align: middle;\n    }\n\n    .dataframe tbody tr th {\n        vertical-align: top;\n    }\n\n    .dataframe thead tr th {\n        text-align: left;\n    }\n</style>\n<table border=\"1\" class=\"dataframe\">\n  <thead>\n    <tr>\n      <th></th>\n      <th>District</th>\n      <th>Neighborhood_ID</th>\n      <th>Neighborhood_name</th>\n      <th>Population</th>\n    </tr>\n  </thead>\n  <tbody>\n    <tr>\n      <th>0</th>\n      <td>1</td>\n      <td>1</td>\n      <td>el Raval</td>\n      <td>47353</td>\n    </tr>\n    <tr>\n      <th>1</th>\n      <td>1</td>\n      <td>2</td>\n      <td>el Barri G\u00f2tic</td>\n      <td>18629</td>\n    </tr>\n    <tr>\n      <th>2</th>\n      <td>1</td>\n      <td>3</td>\n      <td>la Barceloneta</td>\n      <td>14857</td>\n    </tr>\n    <tr>\n      <th>3</th>\n      <td>1</td>\n      <td>4</td>\n      <td>Sant Pere, Santa Caterina i la Ribera</td>\n      <td>22590</td>\n    </tr>\n    <tr>\n      <th>4</th>\n      <td>2</td>\n      <td>5</td>\n      <td>el Fort Pienc</td>\n      <td>32349</td>\n    </tr>\n  </tbody>\n</table>\n</div>"
                    },
                    "metadata": {}
                }
            ]
        },
        {
            "metadata": {},
            "cell_type": "code",
            "source": "# calculate the percentage of population in each neighborhood\npopulation_total = df_BCN['Population'].sum()\n\ndf_BCN['Population %'] = round(df_BCN['Population'].div(population_total)*100,2)\n\ndf_BCN.head()",
            "execution_count": 146,
            "outputs": [
                {
                    "output_type": "execute_result",
                    "execution_count": 146,
                    "data": {
                        "text/plain": "  District Neighborhood_ID                       Neighborhood_name Population  \\\n0        1               1                                el Raval      47353   \n1        1               2                          el Barri G\u00f2tic      18629   \n2        1               3                          la Barceloneta      14857   \n3        1               4   Sant Pere, Santa Caterina i la Ribera      22590   \n4        2               5                           el Fort Pienc      32349   \n\n  Population %  \n0         2.89  \n1         1.14  \n2         0.91  \n3         1.38  \n4         1.98  ",
                        "text/html": "<div>\n<style scoped>\n    .dataframe tbody tr th:only-of-type {\n        vertical-align: middle;\n    }\n\n    .dataframe tbody tr th {\n        vertical-align: top;\n    }\n\n    .dataframe thead tr th {\n        text-align: left;\n    }\n</style>\n<table border=\"1\" class=\"dataframe\">\n  <thead>\n    <tr>\n      <th></th>\n      <th>District</th>\n      <th>Neighborhood_ID</th>\n      <th>Neighborhood_name</th>\n      <th>Population</th>\n      <th>Population %</th>\n    </tr>\n  </thead>\n  <tbody>\n    <tr>\n      <th>0</th>\n      <td>1</td>\n      <td>1</td>\n      <td>el Raval</td>\n      <td>47353</td>\n      <td>2.89</td>\n    </tr>\n    <tr>\n      <th>1</th>\n      <td>1</td>\n      <td>2</td>\n      <td>el Barri G\u00f2tic</td>\n      <td>18629</td>\n      <td>1.14</td>\n    </tr>\n    <tr>\n      <th>2</th>\n      <td>1</td>\n      <td>3</td>\n      <td>la Barceloneta</td>\n      <td>14857</td>\n      <td>0.91</td>\n    </tr>\n    <tr>\n      <th>3</th>\n      <td>1</td>\n      <td>4</td>\n      <td>Sant Pere, Santa Caterina i la Ribera</td>\n      <td>22590</td>\n      <td>1.38</td>\n    </tr>\n    <tr>\n      <th>4</th>\n      <td>2</td>\n      <td>5</td>\n      <td>el Fort Pienc</td>\n      <td>32349</td>\n      <td>1.98</td>\n    </tr>\n  </tbody>\n</table>\n</div>"
                    },
                    "metadata": {}
                }
            ]
        },
        {
            "metadata": {},
            "cell_type": "code",
            "source": "max_pop = int(df_BCN['Population'].max().values)\nmax_pop_perc= float(df_BCN['Population %'].max().values)\nmax_pop_hood = str(df_BCN['Neighborhood_name'].iloc[df_BCN['Population'].idxmax(axis = 0)].values)\n\nmin_pop = int(df_BCN['Population'].min().values)\nmin_pop_perc= float(df_BCN['Population %'].min().values)\nmin_pop_hood = str(df_BCN['Neighborhood_name'].iloc[df_BCN['Population'].idxmin(axis = 0)].values)\n\nprint(\"The most populated Neighborhood in Barcelona is {} with the {:.2f}  of the population, {:d} inhabitants. \".format(max_pop_hood, max_pop_perc, max_pop))\nprint(\"The least populated Neighborhood in Barcelona is {} with the {:.2f}  of the population, {:d} inhabitants. \".format(min_pop_hood, min_pop_perc, min_pop))",
            "execution_count": 147,
            "outputs": [
                {
                    "output_type": "stream",
                    "text": "The most populated Neighborhood in Barcelona is [[\" la Nova Esquerra de l'Eixample\"]] with the 3.55  of the population, 58032 inhabitants. \nThe least populated Neighborhood in Barcelona is [[' la Clota']] with the 0.04  of the population, 683 inhabitants. \n",
                    "name": "stdout"
                }
            ]
        },
        {
            "metadata": {},
            "cell_type": "markdown",
            "source": "# Do all the choropleth representation, by district and by population range"
        },
        {
            "metadata": {},
            "cell_type": "code",
            "source": "!conda install -c conda-forge folium=0.5.0 --yes\nimport folium\n\nprint('Folium installed and imported!')",
            "execution_count": 0,
            "outputs": []
        },
        {
            "metadata": {},
            "cell_type": "code",
            "source": "!conda install -c conda-forge geopy --yes # uncomment this line if you haven't completed the Foursquare API lab\nfrom geopy.geocoders import Nominatim # convert an address into latitude and longitude values\n\naddress = 'Barcelona, Catalonia'\n\ngeolocator = Nominatim(user_agent=\"bcn_explorer\")\nlocation = geolocator.geocode(address)\nlatitude = location.latitude\nlongitude = location.longitude\nprint('The geograpical coordinates of Barcelona are {}, {}.'.format(latitude, longitude))",
            "execution_count": 0,
            "outputs": []
        },
        {
            "metadata": {},
            "cell_type": "code",
            "source": "# download countries geojson file\n!wget --quiet https://s3-api.us-geo.objectstorage.softlayer.net/cf-courses-data/CognitiveClass/DV0101EN/labs/Data_Files/world_countries.json -O bcn.json\n    \nprint('GeoJSON file downloaded!')",
            "execution_count": 0,
            "outputs": []
        },
        {
            "metadata": {},
            "cell_type": "code",
            "source": "# preprocessing\n# hood_count_sf= df_incidents['PdDistrict'].value_counts().to_frame(name='Count')\n# hood_count=hood_count_sf.reset_index()\n# hood_count.rename(columns={hood_count.columns[0]: 'Neighborhood'}, inplace=True)\n# hood_count\n",
            "execution_count": 0,
            "outputs": []
        },
        {
            "metadata": {},
            "cell_type": "code",
            "source": "bcn = r'bcn.json' # geojson file\n\n# create a plain world map\nbcn_map = folium.Map(location=[latitude, longitude], zoom_start=12)\nbcn_map",
            "execution_count": 0,
            "outputs": []
        },
        {
            "metadata": {},
            "cell_type": "code",
            "source": "# generate choropleth map using the district number\nbcn_map.choropleth(\n    geo_data=bcn,\n    data=df_BCN,\n    columns=['Neighborhood_ID', 'District'],\n    key_on='Neighborhood_ID',\n    fill_color='YlOrRd', \n    fill_opacity=0.7, \n    line_opacity=0.2,\n    legend_name='Administrative district'\n)\n\n# display map\nbcn_map",
            "execution_count": 0,
            "outputs": []
        },
        {
            "metadata": {},
            "cell_type": "code",
            "source": "",
            "execution_count": 0,
            "outputs": []
        },
        {
            "metadata": {},
            "cell_type": "code",
            "source": "",
            "execution_count": 0,
            "outputs": []
        },
        {
            "metadata": {},
            "cell_type": "code",
            "source": "# going back to the age problem\ndf_age.head()",
            "execution_count": 54,
            "outputs": [
                {
                    "data": {
                        "text/html": "<div>\n<style scoped>\n    .dataframe tbody tr th:only-of-type {\n        vertical-align: middle;\n    }\n\n    .dataframe tbody tr th {\n        vertical-align: top;\n    }\n\n    .dataframe thead tr th {\n        text-align: left;\n    }\n</style>\n<table border=\"1\" class=\"dataframe\">\n  <thead>\n    <tr>\n      <th></th>\n      <th>District</th>\n      <th>Neighborhood_ID</th>\n      <th>Neighborhood_name</th>\n      <th>TOTAL</th>\n      <th>0</th>\n      <th>1</th>\n      <th>2</th>\n      <th>3</th>\n      <th>4</th>\n      <th>5</th>\n      <th>...</th>\n      <th>86</th>\n      <th>87</th>\n      <th>88</th>\n      <th>89</th>\n      <th>90</th>\n      <th>91</th>\n      <th>92</th>\n      <th>93</th>\n      <th>94</th>\n      <th>95</th>\n    </tr>\n  </thead>\n  <tbody>\n    <tr>\n      <th>0</th>\n      <td>1</td>\n      <td>1</td>\n      <td>el Raval</td>\n      <td>47353</td>\n      <td>415</td>\n      <td>467</td>\n      <td>408</td>\n      <td>404</td>\n      <td>374</td>\n      <td>383</td>\n      <td>...</td>\n      <td>143</td>\n      <td>122</td>\n      <td>100</td>\n      <td>100</td>\n      <td>90</td>\n      <td>73</td>\n      <td>71</td>\n      <td>62</td>\n      <td>42</td>\n      <td>24</td>\n    </tr>\n    <tr>\n      <th>1</th>\n      <td>1</td>\n      <td>2</td>\n      <td>el Barri G\u00f2tic</td>\n      <td>18629</td>\n      <td>116</td>\n      <td>115</td>\n      <td>91</td>\n      <td>96</td>\n      <td>88</td>\n      <td>97</td>\n      <td>...</td>\n      <td>47</td>\n      <td>58</td>\n      <td>55</td>\n      <td>39</td>\n      <td>26</td>\n      <td>31</td>\n      <td>31</td>\n      <td>26</td>\n      <td>23</td>\n      <td>16</td>\n    </tr>\n    <tr>\n      <th>2</th>\n      <td>1</td>\n      <td>3</td>\n      <td>la Barceloneta</td>\n      <td>14857</td>\n      <td>77</td>\n      <td>96</td>\n      <td>78</td>\n      <td>85</td>\n      <td>73</td>\n      <td>84</td>\n      <td>...</td>\n      <td>86</td>\n      <td>71</td>\n      <td>75</td>\n      <td>43</td>\n      <td>37</td>\n      <td>43</td>\n      <td>26</td>\n      <td>21</td>\n      <td>28</td>\n      <td>13</td>\n    </tr>\n    <tr>\n      <th>3</th>\n      <td>1</td>\n      <td>4</td>\n      <td>Sant Pere, Santa Caterina i la Ribera</td>\n      <td>22590</td>\n      <td>139</td>\n      <td>161</td>\n      <td>140</td>\n      <td>142</td>\n      <td>133</td>\n      <td>137</td>\n      <td>...</td>\n      <td>104</td>\n      <td>81</td>\n      <td>85</td>\n      <td>50</td>\n      <td>56</td>\n      <td>45</td>\n      <td>29</td>\n      <td>23</td>\n      <td>29</td>\n      <td>20</td>\n    </tr>\n    <tr>\n      <th>4</th>\n      <td>2</td>\n      <td>5</td>\n      <td>el Fort Pienc</td>\n      <td>32349</td>\n      <td>251</td>\n      <td>230</td>\n      <td>233</td>\n      <td>252</td>\n      <td>257</td>\n      <td>239</td>\n      <td>...</td>\n      <td>185</td>\n      <td>185</td>\n      <td>157</td>\n      <td>144</td>\n      <td>108</td>\n      <td>102</td>\n      <td>72</td>\n      <td>72</td>\n      <td>53</td>\n      <td>49</td>\n    </tr>\n  </tbody>\n</table>\n<p>5 rows \u00d7 100 columns</p>\n</div>",
                        "text/plain": "  District Neighborhood_ID                         Neighborhood_name TOTAL\u00a0\u00a0  \\\n0        1               1                                el Raval\u00a0\u00a0   47353   \n1        1               2                          el Barri G\u00f2tic\u00a0\u00a0   18629   \n2        1               3                          la Barceloneta\u00a0\u00a0   14857   \n3        1               4   Sant Pere, Santa Caterina i la Ribera\u00a0\u00a0   22590   \n4        2               5                           el Fort Pienc\u00a0\u00a0   32349   \n\n  0 \u00a0\u00a0  1 \u00a0 2 \u00a0\u00a0 3 \u00a0\u00a0 4 \u00a0\u00a0 5 \u00a0\u00a0  ... 86 \u00a0\u00a0 87 \u00a0\u00a0 88 \u00a0\u00a0 89 \u00a0\u00a0 90 \u00a0\u00a0 91 \u00a0\u00a0  \\\n0  415  467  408  404  374  383  ...   143   122   100   100    90    73   \n1  116  115   91   96   88   97  ...    47    58    55    39    26    31   \n2   77   96   78   85   73   84  ...    86    71    75    43    37    43   \n3  139  161  140  142  133  137  ...   104    81    85    50    56    45   \n4  251  230  233  252  257  239  ...   185   185   157   144   108   102   \n\n  92 \u00a0\u00a0 93 \u00a0\u00a0 94 \u00a0\u00a0 95 \u00a0\u00a0  \n0    71    62    42    24  \n1    31    26    23    16  \n2    26    21    28    13  \n3    29    23    29    20  \n4    72    72    53    49  \n\n[5 rows x 100 columns]"
                    },
                    "execution_count": 54,
                    "metadata": {},
                    "output_type": "execute_result"
                }
            ]
        },
        {
            "metadata": {},
            "cell_type": "code",
            "source": "# create series using numpy range from 0.5 instead of 0, as if not it would not count the newborns\nseries = pd.Series(np.arange(0.5, 96.5 ,1))\n\n# multiply by rows, the age for the population in that range\ndf_sum_age = df_age.iloc[:,4:].mul(np.asarray(series), axis=1)\n\ndf_median_age = df_age.iloc[:,:4]\n# calculate the median age for every neighborhood\ndf_median_age['Median_Age'] = round(pd.DataFrame(df_sum_age.sum(axis=1)).div(df_median_age['Population'].values),2)\ndf_median_age.head()\n\ndf_median_age.head()",
            "execution_count": 148,
            "outputs": [
                {
                    "output_type": "execute_result",
                    "execution_count": 148,
                    "data": {
                        "text/plain": "  District Neighborhood_ID                       Neighborhood_name Population  \\\n0        1               1                                el Raval      47353   \n1        1               2                          el Barri G\u00f2tic      18629   \n2        1               3                          la Barceloneta      14857   \n3        1               4   Sant Pere, Santa Caterina i la Ribera      22590   \n4        2               5                           el Fort Pienc      32349   \n\n  Median_Age  \n0      38.79  \n1      39.85  \n2      43.10  \n3      40.70  \n4      44.32  ",
                        "text/html": "<div>\n<style scoped>\n    .dataframe tbody tr th:only-of-type {\n        vertical-align: middle;\n    }\n\n    .dataframe tbody tr th {\n        vertical-align: top;\n    }\n\n    .dataframe thead tr th {\n        text-align: left;\n    }\n</style>\n<table border=\"1\" class=\"dataframe\">\n  <thead>\n    <tr>\n      <th></th>\n      <th>District</th>\n      <th>Neighborhood_ID</th>\n      <th>Neighborhood_name</th>\n      <th>Population</th>\n      <th>Median_Age</th>\n    </tr>\n  </thead>\n  <tbody>\n    <tr>\n      <th>0</th>\n      <td>1</td>\n      <td>1</td>\n      <td>el Raval</td>\n      <td>47353</td>\n      <td>38.79</td>\n    </tr>\n    <tr>\n      <th>1</th>\n      <td>1</td>\n      <td>2</td>\n      <td>el Barri G\u00f2tic</td>\n      <td>18629</td>\n      <td>39.85</td>\n    </tr>\n    <tr>\n      <th>2</th>\n      <td>1</td>\n      <td>3</td>\n      <td>la Barceloneta</td>\n      <td>14857</td>\n      <td>43.10</td>\n    </tr>\n    <tr>\n      <th>3</th>\n      <td>1</td>\n      <td>4</td>\n      <td>Sant Pere, Santa Caterina i la Ribera</td>\n      <td>22590</td>\n      <td>40.70</td>\n    </tr>\n    <tr>\n      <th>4</th>\n      <td>2</td>\n      <td>5</td>\n      <td>el Fort Pienc</td>\n      <td>32349</td>\n      <td>44.32</td>\n    </tr>\n  </tbody>\n</table>\n</div>"
                    },
                    "metadata": {}
                }
            ]
        },
        {
            "metadata": {},
            "cell_type": "code",
            "source": "old_pop = int(df_median_age['Median_Age'].max().values)\nold_pop_hood = str(df_median_age['Neighborhood_name'].iloc[df_median_age['Median_Age'].idxmax(axis = 0)].values)\n\nyoung_pop = int(df_median_age['Median_Age'].min().values)\nyoung_pop_hood = str(df_median_age['Neighborhood_name'].iloc[df_median_age['Median_Age'].idxmin(axis = 0)].values)\n\nprint(\"The Neighborhood in Barcelona with the oldest population is {} with a median age of {:d}. \".format(old_pop_hood, old_pop))\nprint(\"The Neighborhood in Barcelona with the youngest population is {} with a median age of {:d}. \".format(young_pop_hood, young_pop))",
            "execution_count": 149,
            "outputs": [
                {
                    "output_type": "stream",
                    "text": "The Neighborhood in Barcelona with the oldest population is [[' Canyelles']] with a median age of 48. \nThe Neighborhood in Barcelona with the youngest population is [[' el Raval']] with a median age of 38. \n",
                    "name": "stdout"
                }
            ]
        },
        {
            "metadata": {},
            "cell_type": "markdown",
            "source": "Next let's compare the age piramid for both the youngest and oldest neighborhoods."
        },
        {
            "metadata": {},
            "cell_type": "code",
            "source": "# use the inline backend to generate the plots within the browser\n%matplotlib inline \n\nimport matplotlib as mpl\nimport matplotlib.pyplot as plt\n\nmpl.style.use('ggplot') # optional: for ggplot-like style",
            "execution_count": 150,
            "outputs": []
        },
        {
            "metadata": {},
            "cell_type": "code",
            "source": "# let's get the two neighborhoods of interest and the ages for the x axis\nages = list(map(str, range(0, 96)))\ndf_age_bars = df_age.iloc[df_median_age['Median_Age'].idxmax(axis = 0),2:].append(df_age.iloc[df_median_age['Median_Age'].idxmin(axis = 0),2:], ignore_index = True)\n\ndf_age_bars.drop(columns=\"Population\",inplace=True)\n\ndf_age_bars.head()",
            "execution_count": 180,
            "outputs": [
                {
                    "output_type": "execute_result",
                    "execution_count": 180,
                    "data": {
                        "text/plain": "  Neighborhood_name    0    1    2    3    4    5    6    7    8  ...   86  \\\n0         Canyelles   32   49   46   58   46   55   51   62   49  ...   47   \n1          el Raval  415  467  408  404  374  383  425  442  433  ...  143   \n\n    87   88   89  90  91  92  93  94  95  \n0   30   28   41  16  20   9  10   9   5  \n1  122  100  100  90  73  71  62  42  24  \n\n[2 rows x 97 columns]",
                        "text/html": "<div>\n<style scoped>\n    .dataframe tbody tr th:only-of-type {\n        vertical-align: middle;\n    }\n\n    .dataframe tbody tr th {\n        vertical-align: top;\n    }\n\n    .dataframe thead tr th {\n        text-align: left;\n    }\n</style>\n<table border=\"1\" class=\"dataframe\">\n  <thead>\n    <tr>\n      <th></th>\n      <th>Neighborhood_name</th>\n      <th>0</th>\n      <th>1</th>\n      <th>2</th>\n      <th>3</th>\n      <th>4</th>\n      <th>5</th>\n      <th>6</th>\n      <th>7</th>\n      <th>8</th>\n      <th>...</th>\n      <th>86</th>\n      <th>87</th>\n      <th>88</th>\n      <th>89</th>\n      <th>90</th>\n      <th>91</th>\n      <th>92</th>\n      <th>93</th>\n      <th>94</th>\n      <th>95</th>\n    </tr>\n  </thead>\n  <tbody>\n    <tr>\n      <th>0</th>\n      <td>Canyelles</td>\n      <td>32</td>\n      <td>49</td>\n      <td>46</td>\n      <td>58</td>\n      <td>46</td>\n      <td>55</td>\n      <td>51</td>\n      <td>62</td>\n      <td>49</td>\n      <td>...</td>\n      <td>47</td>\n      <td>30</td>\n      <td>28</td>\n      <td>41</td>\n      <td>16</td>\n      <td>20</td>\n      <td>9</td>\n      <td>10</td>\n      <td>9</td>\n      <td>5</td>\n    </tr>\n    <tr>\n      <th>1</th>\n      <td>el Raval</td>\n      <td>415</td>\n      <td>467</td>\n      <td>408</td>\n      <td>404</td>\n      <td>374</td>\n      <td>383</td>\n      <td>425</td>\n      <td>442</td>\n      <td>433</td>\n      <td>...</td>\n      <td>143</td>\n      <td>122</td>\n      <td>100</td>\n      <td>100</td>\n      <td>90</td>\n      <td>73</td>\n      <td>71</td>\n      <td>62</td>\n      <td>42</td>\n      <td>24</td>\n    </tr>\n  </tbody>\n</table>\n<p>2 rows \u00d7 97 columns</p>\n</div>"
                    },
                    "metadata": {}
                }
            ]
        },
        {
            "metadata": {},
            "cell_type": "code",
            "source": "rows = pd.Series(df_age_bars.max(axis=1))\ndf_age_bars_norm = df_age_bars.copy()\ndf_age_bars_norm.iloc[:,1:]= df_age_bars.iloc[:,1:].div(rows,axis=0)\ndf_age_bars_norm.head()",
            "execution_count": 181,
            "outputs": [
                {
                    "output_type": "execute_result",
                    "execution_count": 181,
                    "data": {
                        "text/plain": "  Neighborhood_name         0         1         2         3         4  \\\n0         Canyelles  0.230216  0.352518  0.330935  0.417266  0.330935   \n1          el Raval  0.358997  0.403979  0.352941  0.349481  0.323529   \n\n          5         6         7         8  ...        86        87        88  \\\n0  0.395683  0.366906  0.446043  0.352518  ...  0.338129  0.215827  0.201439   \n1  0.331315  0.367647  0.382353  0.374567  ...  0.123702  0.105536  0.086505   \n\n         89        90        91        92        93        94        95  \n0  0.294964  0.115108  0.143885  0.064748  0.071942  0.064748  0.035971  \n1  0.086505  0.077855  0.063149  0.061419  0.053633  0.036332  0.020761  \n\n[2 rows x 97 columns]",
                        "text/html": "<div>\n<style scoped>\n    .dataframe tbody tr th:only-of-type {\n        vertical-align: middle;\n    }\n\n    .dataframe tbody tr th {\n        vertical-align: top;\n    }\n\n    .dataframe thead tr th {\n        text-align: left;\n    }\n</style>\n<table border=\"1\" class=\"dataframe\">\n  <thead>\n    <tr>\n      <th></th>\n      <th>Neighborhood_name</th>\n      <th>0</th>\n      <th>1</th>\n      <th>2</th>\n      <th>3</th>\n      <th>4</th>\n      <th>5</th>\n      <th>6</th>\n      <th>7</th>\n      <th>8</th>\n      <th>...</th>\n      <th>86</th>\n      <th>87</th>\n      <th>88</th>\n      <th>89</th>\n      <th>90</th>\n      <th>91</th>\n      <th>92</th>\n      <th>93</th>\n      <th>94</th>\n      <th>95</th>\n    </tr>\n  </thead>\n  <tbody>\n    <tr>\n      <th>0</th>\n      <td>Canyelles</td>\n      <td>0.230216</td>\n      <td>0.352518</td>\n      <td>0.330935</td>\n      <td>0.417266</td>\n      <td>0.330935</td>\n      <td>0.395683</td>\n      <td>0.366906</td>\n      <td>0.446043</td>\n      <td>0.352518</td>\n      <td>...</td>\n      <td>0.338129</td>\n      <td>0.215827</td>\n      <td>0.201439</td>\n      <td>0.294964</td>\n      <td>0.115108</td>\n      <td>0.143885</td>\n      <td>0.064748</td>\n      <td>0.071942</td>\n      <td>0.064748</td>\n      <td>0.035971</td>\n    </tr>\n    <tr>\n      <th>1</th>\n      <td>el Raval</td>\n      <td>0.358997</td>\n      <td>0.403979</td>\n      <td>0.352941</td>\n      <td>0.349481</td>\n      <td>0.323529</td>\n      <td>0.331315</td>\n      <td>0.367647</td>\n      <td>0.382353</td>\n      <td>0.374567</td>\n      <td>...</td>\n      <td>0.123702</td>\n      <td>0.105536</td>\n      <td>0.086505</td>\n      <td>0.086505</td>\n      <td>0.077855</td>\n      <td>0.063149</td>\n      <td>0.061419</td>\n      <td>0.053633</td>\n      <td>0.036332</td>\n      <td>0.020761</td>\n    </tr>\n  </tbody>\n</table>\n<p>2 rows \u00d7 97 columns</p>\n</div>"
                    },
                    "metadata": {}
                }
            ]
        },
        {
            "metadata": {},
            "cell_type": "code",
            "source": "# generate plot\n# df_age_bars_norm.index = df_age_bars_norm.index.map(int) # let's change the index values of df_top5 to type integer for plotting\n# df_age_bars_norm.plot(kind='bar', \n#             stacked=False,\n#             figsize=(20, 10), # pass a tuple (x, y) size\n#             )\nindices = ages\nwidth = 1\n\nplt.bar(ages, df_age_bars_norm.iloc[0,1:], width=width, \n        color='b',alpha=0.5, label=df_age_bars.iloc[0,0])\nplt.bar(ages, df_age_bars_norm.iloc[1,1:],\n        width=0.5*width, color='r', alpha=0.5, label=df_age_bars.iloc[1,0])\n\nplt.legend()\n\nplt.show()",
            "execution_count": 200,
            "outputs": [
                {
                    "output_type": "display_data",
                    "data": {
                        "text/plain": "<Figure size 432x288 with 1 Axes>",
                        "image/png": "[encoded data removed]"
                    },
                    "metadata": {}
                }
            ]
        },
        {
            "metadata": {},
            "cell_type": "code",
            "source": "# unify neighborhoods with same code\ndf = df.groupby(['PostalCode', 'Borough'], sort=True).agg( ', '.join)\n\n# the index should be restored after deleting and merging rows from the dataframe\ndf = df.reset_index()\ndf.head()",
            "execution_count": 0,
            "outputs": []
        },
        {
            "metadata": {},
            "cell_type": "code",
            "source": "# The code was removed by Watson Studio for sharing.",
            "execution_count": 1,
            "outputs": []
        },
        {
            "metadata": {},
            "cell_type": "markdown",
            "source": "#### Nationality\n\nlocals vs foreigners. word cloud. \n"
        },
        {
            "metadata": {},
            "cell_type": "code",
            "source": "# install wordcloud\n!conda install -c conda-forge wordcloud==1.4.1 --yes\n\n# import package and its set of stopwords\nfrom wordcloud import WordCloud, STOPWORDS\n\ntotal_immigration = df_can['Total'].sum()\n\n# Using countries with single-word names, let's duplicate each country's name based on how much they contribute to the total immigration.\nmax_words = 90\nword_string = ''\nfor country in df_can.index.values:\n    # check if country's name is a single-word name\n    if len(country.split(' ')) == 1:\n        repeat_num_times = int(df_can.loc[country, 'Total']/float(total_immigration)*max_words)\n        word_string = word_string + ((country + ' ') * repeat_num_times)\n                                     \n# display the generated text\nword_string\n\n# create the word cloud\nwordcloud = WordCloud(background_color='white').generate(word_string)\n\n# display the cloud\nfig = plt.figure()\nfig.set_figwidth(14)\nfig.set_figheight(18)\n\nplt.imshow(wordcloud, interpolation='bilinear')\nplt.axis('off')\nplt.show()",
            "execution_count": 0,
            "outputs": []
        },
        {
            "metadata": {},
            "cell_type": "code",
            "source": "### Choropleth\n!conda install -c conda-forge folium=0.5.0 --yes\nimport folium\n\nworld_geo = r'world_countries.json' # geojson file\n\n# create a plain world map\nworld_map = folium.Map(location=[0, 0], zoom_start=2, tiles='Mapbox Bright')\n\nworld_geo = r'world_countries.json'\n\n# create a numpy array of length 6 and has linear spacing from the minium total immigration to the maximum total immigration\nthreshold_scale = np.linspace(df_can['Total'].min(),\n                              df_can['Total'].max(),\n                              6, dtype=int)\nthreshold_scale = threshold_scale.tolist() # change the numpy array to a list\nthreshold_scale[-1] = threshold_scale[-1] + 1 # make sure that the last value of the list is greater than the maximum immigration\n\n# let Folium determine the scale.\nworld_map = folium.Map(location=[0, 0], zoom_start=2, tiles='Mapbox Bright')\nworld_map.choropleth(\n    geo_data=world_geo,\n    data=df_can,\n    columns=['Country', 'Total'],\n    key_on='feature.properties.name',\n    threshold_scale=threshold_scale,\n    fill_color='YlOrRd', \n    fill_opacity=0.7, \n    line_opacity=0.2,\n    legend_name='Immigration to Canada',\n    reset=True\n)\nworld_map",
            "execution_count": 0,
            "outputs": []
        },
        {
            "metadata": {},
            "cell_type": "markdown",
            "source": "#### Elections\n\nleft, right and center. Pie chart."
        },
        {
            "metadata": {},
            "cell_type": "markdown",
            "source": "#### Unemployment\n\nleft, right and center. Pie chart."
        },
        {
            "metadata": {},
            "cell_type": "code",
            "source": "",
            "execution_count": 0,
            "outputs": []
        },
        {
            "metadata": {},
            "cell_type": "code",
            "source": "",
            "execution_count": 0,
            "outputs": []
        },
        {
            "metadata": {},
            "cell_type": "code",
            "source": "",
            "execution_count": 0,
            "outputs": []
        },
        {
            "metadata": {},
            "cell_type": "code",
            "source": "",
            "execution_count": 0,
            "outputs": []
        },
        {
            "metadata": {},
            "cell_type": "code",
            "source": "",
            "execution_count": 0,
            "outputs": []
        },
        {
            "metadata": {},
            "cell_type": "markdown",
            "source": "### Foursquare\nNow that we have our location candidates, let's use Foursquare API to get info on restaurants in each neighborhood.\n\nWe're interested in venues in 'food' category, but only those that are proper restaurants - coffe shops, pizza places, bakeries etc. are not direct competitors so we don't care about those. So we will include in out list only venues that have 'restaurant' in category name, and we'll make sure to detect and include all the subcategories of specific 'Italian restaurant' category, as we need info on Italian restaurants in the neighborhood."
        },
        {
            "metadata": {},
            "cell_type": "code",
            "source": "# one hot encoding\ntoronto_onehot = pd.get_dummies(toronto_venues[['Venue Category']], prefix=\"\", prefix_sep=\"\")\n\n# add postal code column back to dataframe\ntoronto_onehot['PostalCode'] = toronto_venues['PostalCode'] \n\n# move postal code column to the first column\nfixed_columns = [toronto_onehot.columns[-1]] + list(toronto_onehot.columns[:-1])\ntoronto_onehot = toronto_onehot[fixed_columns]\n\ntoronto_grouped = toronto_onehot.groupby('PostalCode').mean().reset_index()\ntoronto_grouped\n\n\nnum_top_venues = 5\n\nfor code in toronto_grouped['PostalCode']:\n    print(\"----\"+code+\"----\")\n    temp = toronto_grouped[toronto_grouped['PostalCode'] == code].T.reset_index()\n    temp.columns = ['venue','freq']\n    temp = temp.iloc[1:]\n    temp['freq'] = temp['freq'].astype(float)\n    temp = temp.round({'freq': 2})\n    print(temp.sort_values('freq', ascending=False).reset_index(drop=True).head(num_top_venues))\n    print('\\n')\n    \n# function to sort the venues\ndef return_most_common_venues(row, num_top_venues):\n    row_categories = row.iloc[1:]\n    row_categories_sorted = row_categories.sort_values(ascending=False)\n    \n    return row_categories_sorted.index.values[0:num_top_venues]\n\n# Now let's create the new dataframe and display the top 10 venues for each neighborhood.\nnum_top_venues = 10\n\nindicators = ['st', 'nd', 'rd']\n\n# create columns according to number of top venues\ncolumns = ['PostalCode']\nfor ind in np.arange(num_top_venues):\n    try:\n        columns.append('{}{} Most Common Venue'.format(ind+1, indicators[ind]))\n    except:\n        columns.append('{}th Most Common Venue'.format(ind+1))\n\n# create a new dataframe\ndf_venues_sorted = pd.DataFrame(columns=columns)\ndf_venues_sorted['PostalCode'] = toronto_grouped['PostalCode']\n\nfor ind in np.arange(toronto_grouped.shape[0]):\n    df_venues_sorted.iloc[ind, 1:] = return_most_common_venues(toronto_grouped.iloc[ind, :], num_top_venues)\n\ndf_venues_sorted.head()",
            "execution_count": 0,
            "outputs": []
        },
        {
            "metadata": {},
            "cell_type": "markdown",
            "source": "Foursquare credentials are defined in hidden cell bellow."
        },
        {
            "metadata": {},
            "cell_type": "code",
            "source": "# @hidden_cell\nCLIENT_ID = 'HK3SANSRHK2CLDTN5LSQB0EWT4TPWNGJNAHO13OBNRHGMRON' # your Foursquare ID\nCLIENT_SECRET = 'LNY5CETKEM4DAQMFHMNAJRPFMNJX0CWB44RVOT32IKZQDJZT' # your Foursquare Secret\nVERSION = '20180605' # Foursquare API version",
            "execution_count": 17,
            "outputs": []
        },
        {
            "metadata": {},
            "cell_type": "code",
            "source": "# Category IDs corresponding to Italian restaurants were taken from Foursquare web site (https://developer.foursquare.com/docs/resources/categories):\n\nfood_category = '4d4b7105d754a06374d81259' # 'Root' category for all food-related venues\n\nitalian_restaurant_categories = ['4bf58dd8d48988d110941735','55a5a1ebe4b013909087cbb6','55a5a1ebe4b013909087cb7c',\n                                 '55a5a1ebe4b013909087cba7','55a5a1ebe4b013909087cba1','55a5a1ebe4b013909087cba4',\n                                 '55a5a1ebe4b013909087cb95','55a5a1ebe4b013909087cb89','55a5a1ebe4b013909087cb9b',\n                                 '55a5a1ebe4b013909087cb98','55a5a1ebe4b013909087cbbf','55a5a1ebe4b013909087cb79',\n                                 '55a5a1ebe4b013909087cbb0','55a5a1ebe4b013909087cbb3','55a5a1ebe4b013909087cb74',\n                                 '55a5a1ebe4b013909087cbaa','55a5a1ebe4b013909087cb83','55a5a1ebe4b013909087cb8c',\n                                 '55a5a1ebe4b013909087cb92','55a5a1ebe4b013909087cb8f','55a5a1ebe4b013909087cb86',\n                                 '55a5a1ebe4b013909087cbb9','55a5a1ebe4b013909087cb7f','55a5a1ebe4b013909087cbbc',\n                                 '55a5a1ebe4b013909087cb9e','55a5a1ebe4b013909087cbc2','55a5a1ebe4b013909087cbad']\n\ndef is_restaurant(categories, specific_filter=None):\n    restaurant_words = ['restaurant', 'diner', 'taverna', 'steakhouse']\n    restaurant = False\n    specific = False\n    for c in categories:\n        category_name = c[0].lower()\n        category_id = c[1]\n        for r in restaurant_words:\n            if r in category_name:\n                restaurant = True\n        if 'fast food' in category_name:\n            restaurant = False\n        if not(specific_filter is None) and (category_id in specific_filter):\n            specific = True\n            restaurant = True\n    return restaurant, specific\n\ndef get_categories(categories):\n    return [(cat['name'], cat['id']) for cat in categories]\n\ndef format_address(location):\n    address = ', '.join(location['formattedAddress'])\n    address = address.replace(', Deutschland', '')\n    address = address.replace(', Germany', '')\n    return address\n\ndef get_venues_near_location(lat, lon, category, client_id, client_secret, radius=500, limit=100):\n    version = '20180724'\n    url = 'https://api.foursquare.com/v2/venues/explore?client_id={}&client_secret={}&v={}&ll={},{}&categoryId={}&radius={}&limit={}'.format(\n        client_id, client_secret, version, lat, lon, category, radius, limit)\n    try:\n        results = requests.get(url).json()['response']['groups'][0]['items']\n        venues = [(item['venue']['id'],\n                   item['venue']['name'],\n                   get_categories(item['venue']['categories']),\n                   (item['venue']['location']['lat'], item['venue']['location']['lng']),\n                   format_address(item['venue']['location']),\n                   item['venue']['location']['distance']) for item in results]        \n    except:\n        venues = []\n    return venues",
            "execution_count": 18,
            "outputs": []
        },
        {
            "metadata": {},
            "cell_type": "code",
            "source": "# Let's now go over our neighborhood locations and get nearby restaurants; we'll also maintain a dictionary of all found restaurants and all found italian restaurants\n\nimport pickle\n\ndef get_restaurants(lats, lons):\n    restaurants = {}\n    italian_restaurants = {}\n    location_restaurants = []\n\n    print('Obtaining venues around candidate locations:', end='')\n    for lat, lon in zip(lats, lons):\n        # Using radius=350 to meke sure we have overlaps/full coverage so we don't miss any restaurant (we're using dictionaries to remove any duplicates resulting from area overlaps)\n        venues = get_venues_near_location(lat, lon, food_category, foursquare_client_id, foursquare_client_secret, radius=350, limit=100)\n        area_restaurants = []\n        for venue in venues:\n            venue_id = venue[0]\n            venue_name = venue[1]\n            venue_categories = venue[2]\n            venue_latlon = venue[3]\n            venue_address = venue[4]\n            venue_distance = venue[5]\n            is_res, is_italian = is_restaurant(venue_categories, specific_filter=italian_restaurant_categories)\n            if is_res:\n                x, y = lonlat_to_xy(venue_latlon[1], venue_latlon[0])\n                restaurant = (venue_id, venue_name, venue_latlon[0], venue_latlon[1], venue_address, venue_distance, is_italian, x, y)\n                if venue_distance<=300:\n                    area_restaurants.append(restaurant)\n                restaurants[venue_id] = restaurant\n                if is_italian:\n                    italian_restaurants[venue_id] = restaurant\n        location_restaurants.append(area_restaurants)\n        print(' .', end='')\n    print(' done.')\n    return restaurants, italian_restaurants, location_restaurants\n\n# Try to load from local file system in case we did this before\nrestaurants = {}\nitalian_restaurants = {}\nlocation_restaurants = []\nloaded = False\ntry:\n    with open('restaurants_350.pkl', 'rb') as f:\n        restaurants = pickle.load(f)\n    with open('italian_restaurants_350.pkl', 'rb') as f:\n        italian_restaurants = pickle.load(f)\n    with open('location_restaurants_350.pkl', 'rb') as f:\n        location_restaurants = pickle.load(f)\n    print('Restaurant data loaded.')\n    loaded = True\nexcept:\n    pass\n\n# If load failed use the Foursquare API to get the data\nif not loaded:\n    restaurants, italian_restaurants, location_restaurants = get_restaurants(latitudes, longitudes)\n    \n    # Let's persists this in local file system\n    with open('restaurants_350.pkl', 'wb') as f:\n        pickle.dump(restaurants, f)\n    with open('italian_restaurants_350.pkl', 'wb') as f:\n        pickle.dump(italian_restaurants, f)\n    with open('location_restaurants_350.pkl', 'wb') as f:\n        pickle.dump(location_restaurants, f)\n        ",
            "execution_count": 19,
            "outputs": [
                {
                    "name": "stdout",
                    "output_type": "stream",
                    "text": "Obtaining venues around candidate locations: . . . . . . . . . . . . . . . . . . . . . . . . . . . . . . . . . . . . . . . . . . . . . . . . . . . . . . . . . . . . . . . . . . . . . . . . . . . . . . . . . . . . . . . . . . . . . . . . . . . . . . . . . . . . . . . . . . . . . . . . . . . . . . . . . . . . . . . . . . . . . . . . . . . . . . . . . . . . . . . . . . . . . . . . . . . . . . . . . . . . . . . . . . . . . . . . . . . . . . . . . . . . . . . . . . . . . . . . . . . . . . . . . . . . . . . . . . . . . . . . . . . . . . . . . . . . . . . . . . . . . . . . . . . . . . . . . . . . . . . . . . . . . . . . . . . . . . . . . . . . . . . . . . . . . . . . . . . . . . . . . . . . . . . . . . . . . . . . . . . . . . . . . . . . . . . . . . . . . . . . . . . . done.\n"
                }
            ]
        },
        {
            "metadata": {},
            "cell_type": "code",
            "source": "import numpy as np\n\nprint('Total number of restaurants:', len(restaurants))\nprint('Total number of Italian restaurants:', len(italian_restaurants))\nprint('Percentage of Italian restaurants: {:.2f}%'.format(len(italian_restaurants) / len(restaurants) * 100))\nprint('Average number of restaurants in neighborhood:', np.array([len(r) for r in location_restaurants]).mean())",
            "execution_count": 20,
            "outputs": [
                {
                    "name": "stdout",
                    "output_type": "stream",
                    "text": "Total number of restaurants: 2031\nTotal number of Italian restaurants: 312\nPercentage of Italian restaurants: 15.36%\nAverage number of restaurants in neighborhood: 4.91208791209\n"
                }
            ]
        },
        {
            "metadata": {},
            "cell_type": "code",
            "source": "print('List of all restaurants')\nprint('-----------------------')\nfor r in list(restaurants.values())[:10]:\n    print(r)\nprint('...')\nprint('Total:', len(restaurants))",
            "execution_count": 21,
            "outputs": [
                {
                    "name": "stdout",
                    "output_type": "stream",
                    "text": "List of all restaurants\n-----------------------\n('5546072a498e349bf0e737e1', 'Shaam Restaurant', 52.474363806181806, 13.440120220184326, 'Karl-Marx-Stra\u00dfe 177, 10247 Berlin', 249, False, 394052.35775333317, 5814944.355430137)\n('4fce25c6e4b0f39fffdd0447', 'Wursterei', 52.5058278495275, 13.333072532529153, 'Hardenbergplatz 27d, 10623 Berlin', 133, False, 386862.9315917266, 5818606.191572046)\n('57ffdde438fa512462a6b490', 'Einstein Kaffeehaus & Restaurant', 52.516953, 13.385849, 'Unter der Linden 42, 10117 Berlin', 69, False, 390472.37417370133, 5819762.151308152)\n('514316eae4b080a105a5b4f5', 'Allee Bistro', 52.534855836549994, 13.497241138618675, 'Berlin', 279, False, 398071.8391866421, 5821590.182515125)\n('4c3a05951a38ef3b86079321', 'Louis', 52.474274260971214, 13.445097179795765, 'Richardplatz 5, 12055 Berlin', 158, False, 394390.1589999274, 5814927.10762019)\n('4b62bc3df964a520b4502ae3', 'Kaplan D\u00f6ner', 52.556723244788124, 13.373655087007442, 'Osloer Str. 84, Berlin', 248, False, 389744.70399348286, 5824204.024383282)\n('507eb672e4b032f203a43bee', 'Vino e Cucina', 52.490001421043665, 13.38526010531851, 'Kreuzbergstr. 77, 10965 Berlin', 218, True, 390365.3747334052, 5816765.463894998)\n('4bbc5dde51b89c744f4f872a', 'Thai Tasty', 52.523448363244846, 13.379427543998961, 'Luisenstr. 14, 10117 Berlin', 318, False, 390052.8981128248, 5820494.335557022)\n('51f02bc1498ed5e8bd0f1672', 'Lecker Song', 52.544179118842244, 13.420204777148115, 'Schliemannstr. 19, 10437 Berlin', 150, False, 392869.7024230916, 5822738.722407024)\n('4c655634e0c4be9a73d18758', 'Marjan Grill', 52.52019090974542, 13.346992507015973, 'Stadtbahnbogen 411 (Bartningallee), 10557 Berlin', 91, False, 387844.2151326508, 5820181.937990252)\n...\nTotal: 2031\n"
                }
            ]
        },
        {
            "metadata": {},
            "cell_type": "code",
            "source": "print('List of Italian restaurants')\nprint('---------------------------')\nfor r in list(italian_restaurants.values())[:10]:\n    print(r)\nprint('...')\nprint('Total:', len(italian_restaurants))",
            "execution_count": 22,
            "outputs": [
                {
                    "name": "stdout",
                    "output_type": "stream",
                    "text": "List of Italian restaurants\n---------------------------\n('4b4f6063f964a520e10327e3', 'Salumeria Culinario', 52.526394678482745, 13.393537136029817, 'Tucholskystr. 34 (Auguststr.), 10117 Berlin', 123, True, 391017.3861974631, 5820800.631260842)\n('56d5838e498eda2c7124a8f0', 'Pascarella', 52.53224028238963, 13.380982905663293, 'Berlin', 168, True, 390180.3491140888, 5821469.816676741)\n('4f1ff655e4b0ec749c54b273', 'Agata Torrisi', 52.53651019364004, 13.377780874234496, 'W\u00f6hlertstr. 5, 10115 Berlin', 121, True, 389973.84217276424, 5821949.599236318)\n('551ecd4e498e52f76b5f4310', \"Antonello's Cevicheria & Street Food\", 52.49042751718539, 13.390365472982154, 'Nostitzstr. 22, Berlin', 240, True, 390713.04239021626, 5816805.116119504)\n('4bf2dd126991c9b6629829e9', 'Al Contadino Sotto Le Stelle', 52.52780835209213, 13.401225263437848, 'Auguststr. 36 (Joachimstr.), 10115 Berlin', 250, True, 391542.39733332, 5820946.282045525)\n('4afc5179f964a5207e2122e3', 'Boccondivino', 52.522249160938536, 13.384316985590111, 'Albrechtstr. 18, 10117 Berlin', 161, True, 390381.61197342863, 5820353.522465905)\n('52c863ca498e73da17e59cb9', 'Caligari', 52.475843, 13.423658, 'Kienitzerstr. 110, Berlin', 307, True, 392937.9001831622, 5815133.146853393)\n('507eb672e4b032f203a43bee', 'Vino e Cucina', 52.490001421043665, 13.38526010531851, 'Kreuzbergstr. 77, 10965 Berlin', 218, True, 390365.3747334052, 5816765.463894998)\n('4b3a4c4df964a520056425e3', 'Fratelli La Bionda', 52.48876483018588, 13.397204875946045, 'Bergmannstr. 31 (Heimstr.), 10961 Berlin', 41, True, 391173.2712361226, 5816609.86209068)\n('5454eda7498ee281f036eddf', 'Pastificio Tosatti', 52.5435, 13.419621, 'Schliemannstr. 14a, 10437 Berlin', 236, True, 392828.4632061965, 5822664.056144068)\n...\nTotal: 312\n"
                }
            ]
        },
        {
            "metadata": {},
            "cell_type": "code",
            "source": "print('Restaurants around location')\nprint('---------------------------')\nfor i in range(100, 110):\n    rs = location_restaurants[i][:8]\n    names = ', '.join([r[1] for r in rs])\n    print('Restaurants around location {}: {}'.format(i+1, names))",
            "execution_count": 23,
            "outputs": [
                {
                    "name": "stdout",
                    "output_type": "stream",
                    "text": "Restaurants around location\n---------------------------\nRestaurants around location 101: Mabuhay, Scandic Restaurant\nRestaurants around location 102: Solar, THE POST Brasserie & Bar, Ristorante Marinelli, Diomira, Mexican, Cucina Italiana, Restaurant Hof zwei, Mor\u00e9los Steakhaus & Cocktailbar\nRestaurants around location 103: Paracas, Nobelhart & Schmutzig, Mama Cook, Trattoria da Vinci, Steakhaus Asador, Tumi, Delhi 6, Deutsche K\u00fcche By Kaese-koenig.de\nRestaurants around location 104: \nRestaurants around location 105: Pacifico, food bag 2, TAT Imbiss\nRestaurants around location 106: Santa Maria, Die Henne, Zur kleinen Markthalle, Parantez, Habibi, Maroush, Sol y Sombra, Chez Michel\nRestaurants around location 107: La Piadina, 3 Schwestern, Trattoria Marechiaro, Goldener Hahn, Weltrestaurant Markthalle, Long March Canteen, Olive\nRestaurants around location 108: Salumeria Lamuri, Restaurant Richard\nRestaurants around location 109: Scheers Schnitzel, Seoulkitchen Korean BBQ & Sushi, Michelberger Restaurant, Rio Grande, Nano Falafel, Bistro Istanbul, Asia Bistro\nRestaurants around location 110: D\u00eenette, Areti, Kotai Asia, Opera Restaurant and Bar, Asia Food Store \"We lunch\", Ba Qu\u00e9, La Cesta, Sedici Cucina e Delicatezze\n"
                }
            ]
        },
        {
            "metadata": {},
            "cell_type": "markdown",
            "source": "Let's now see all the collected restaurants in our area of interest on map, and let's also show Italian restaurants in different color."
        },
        {
            "metadata": {},
            "cell_type": "code",
            "source": "map_berlin = folium.Map(location=berlin_center, zoom_start=13)\nfolium.Marker(berlin_center, popup='Alexanderplatz').add_to(map_berlin)\nfor res in restaurants.values():\n    lat = res[2]; lon = res[3]\n    is_italian = res[6]\n    color = 'red' if is_italian else 'blue'\n    folium.CircleMarker([lat, lon], radius=3, color=color, fill=True, fill_color=color, fill_opacity=1).add_to(map_berlin)\nmap_berlin",
            "execution_count": 29,
            "outputs": [
                {
                    "name": "stderr",
                    "output_type": "stream",
                    "text": "WARNING: Some output was deleted.\n"
                }
            ]
        },
        {
            "metadata": {},
            "cell_type": "markdown",
            "source": "Looking good. So now we have all the restaurants in area within few kilometers from Alexanderplatz, and we know which ones are Italian restaurants! We also know which restaurants exactly are in vicinity of every neighborhood candidate center.\n\nThis concludes the data gathering phase - we're now ready to use this data for analysis to produce the report on optimal locations for a new Italian restaurant!"
        },
        {
            "metadata": {},
            "cell_type": "markdown",
            "source": "## Methodology <a name=\"methodology\"></a>"
        },
        {
            "metadata": {},
            "cell_type": "markdown",
            "source": "In this project we will direct our efforts on detecting areas of Berlin that have low restaurant density, particularly those with low number of Italian restaurants. We will limit our analysis to area ~6km around city center.\n\nIn first step we have collected the required **data: location and type (category) of every restaurant within 6km from Berlin center** (Alexanderplatz). We have also **identified Italian restaurants** (according to Foursquare categorization).\n\nSecond step in our analysis will be calculation and exploration of '**restaurant density**' across different areas of Berlin - we will use **heatmaps** to identify a few promising areas close to center with low number of restaurants in general (*and* no Italian restaurants in vicinity) and focus our attention on those areas.\n\nIn third and final step we will focus on most promising areas and within those create **clusters of locations that meet some basic requirements** established in discussion with stakeholders: we will take into consideration locations with **no more than two restaurants in radius of 250 meters**, and we want locations **without Italian restaurants in radius of 400 meters**. We will present map of all such locations but also create clusters (using **k-means clustering**) of those locations to identify general zones / neighborhoods / addresses which should be a starting point for final 'street level' exploration and search for optimal venue location by stakeholders."
        },
        {
            "metadata": {},
            "cell_type": "markdown",
            "source": "## Analysis 2"
        },
        {
            "metadata": {},
            "cell_type": "markdown",
            "source": "Let's perform some basic explanatory data analysis and derive some additional info from our raw data. First let's count the **number of restaurants in every area candidate**:"
        },
        {
            "metadata": {},
            "cell_type": "code",
            "source": "location_restaurants_count = [len(res) for res in location_restaurants]\n\ndf_locations['Restaurants in area'] = location_restaurants_count\n\nprint('Average number of restaurants in every area with radius=300m:', np.array(location_restaurants_count).mean())\n\ndf_locations.head(10)",
            "execution_count": 31,
            "outputs": [
                {
                    "name": "stdout",
                    "output_type": "stream",
                    "text": "Average number of restaurants in every area with radius=300m: 4.91208791209\n"
                },
                {
                    "data": {
                        "text/html": "<div>\n<style scoped>\n    .dataframe tbody tr th:only-of-type {\n        vertical-align: middle;\n    }\n\n    .dataframe tbody tr th {\n        vertical-align: top;\n    }\n\n    .dataframe thead th {\n        text-align: right;\n    }\n</style>\n<table border=\"1\" class=\"dataframe\">\n  <thead>\n    <tr style=\"text-align: right;\">\n      <th></th>\n      <th>Address</th>\n      <th>Distance from center</th>\n      <th>Latitude</th>\n      <th>Longitude</th>\n      <th>X</th>\n      <th>Y</th>\n      <th>Restaurants in area</th>\n    </tr>\n  </thead>\n  <tbody>\n    <tr>\n      <th>0</th>\n      <td>Bundesautobahn 100 &amp; Tempelhofer Damm, 12099 B...</td>\n      <td>5992.495307</td>\n      <td>52.470194</td>\n      <td>13.388575</td>\n      <td>390541.280176</td>\n      <td>5.814557e+06</td>\n      <td>4</td>\n    </tr>\n    <tr>\n      <th>1</th>\n      <td>09R/27L, 12101 Berlin</td>\n      <td>5840.376700</td>\n      <td>52.470314</td>\n      <td>13.397404</td>\n      <td>391141.280176</td>\n      <td>5.814557e+06</td>\n      <td>0</td>\n    </tr>\n    <tr>\n      <th>2</th>\n      <td>09R/27L, 12049 Berlin</td>\n      <td>5747.173218</td>\n      <td>52.470434</td>\n      <td>13.406234</td>\n      <td>391741.280176</td>\n      <td>5.814557e+06</td>\n      <td>0</td>\n    </tr>\n    <tr>\n      <th>3</th>\n      <td>09R/27L, 12049 Berlin</td>\n      <td>5715.767665</td>\n      <td>52.470552</td>\n      <td>13.415063</td>\n      <td>392341.280176</td>\n      <td>5.814557e+06</td>\n      <td>0</td>\n    </tr>\n    <tr>\n      <th>4</th>\n      <td>Warthestra\u00dfe 23, 12051 Berlin</td>\n      <td>5747.173218</td>\n      <td>52.470670</td>\n      <td>13.423893</td>\n      <td>392941.280176</td>\n      <td>5.814557e+06</td>\n      <td>1</td>\n    </tr>\n    <tr>\n      <th>5</th>\n      <td>Schierker Str. 19-20, 12051 Berlin</td>\n      <td>5840.376700</td>\n      <td>52.470788</td>\n      <td>13.432722</td>\n      <td>393541.280176</td>\n      <td>5.814557e+06</td>\n      <td>6</td>\n    </tr>\n    <tr>\n      <th>6</th>\n      <td>Karl-Marx-Stra\u00dfe 213, 12055 Berlin</td>\n      <td>5992.495307</td>\n      <td>52.470904</td>\n      <td>13.441552</td>\n      <td>394141.280176</td>\n      <td>5.814557e+06</td>\n      <td>5</td>\n    </tr>\n    <tr>\n      <th>7</th>\n      <td>Hessenring 34, 12101 Berlin</td>\n      <td>5855.766389</td>\n      <td>52.474683</td>\n      <td>13.375159</td>\n      <td>389641.280176</td>\n      <td>5.815077e+06</td>\n      <td>0</td>\n    </tr>\n    <tr>\n      <th>8</th>\n      <td>Thuyring 6, 12101 Berlin</td>\n      <td>5604.462508</td>\n      <td>52.474804</td>\n      <td>13.383989</td>\n      <td>390241.280176</td>\n      <td>5.815077e+06</td>\n      <td>0</td>\n    </tr>\n    <tr>\n      <th>9</th>\n      <td>09L/27R, 12101 Berlin</td>\n      <td>5408.326913</td>\n      <td>52.474924</td>\n      <td>13.392820</td>\n      <td>390841.280176</td>\n      <td>5.815077e+06</td>\n      <td>0</td>\n    </tr>\n  </tbody>\n</table>\n</div>",
                        "text/plain": "                                             Address  Distance from center  \\\n0  Bundesautobahn 100 & Tempelhofer Damm, 12099 B...           5992.495307   \n1                              09R/27L, 12101 Berlin           5840.376700   \n2                              09R/27L, 12049 Berlin           5747.173218   \n3                              09R/27L, 12049 Berlin           5715.767665   \n4                      Warthestra\u00dfe 23, 12051 Berlin           5747.173218   \n5                 Schierker Str. 19-20, 12051 Berlin           5840.376700   \n6                 Karl-Marx-Stra\u00dfe 213, 12055 Berlin           5992.495307   \n7                        Hessenring 34, 12101 Berlin           5855.766389   \n8                           Thuyring 6, 12101 Berlin           5604.462508   \n9                              09L/27R, 12101 Berlin           5408.326913   \n\n    Latitude  Longitude              X             Y  Restaurants in area  \n0  52.470194  13.388575  390541.280176  5.814557e+06                    4  \n1  52.470314  13.397404  391141.280176  5.814557e+06                    0  \n2  52.470434  13.406234  391741.280176  5.814557e+06                    0  \n3  52.470552  13.415063  392341.280176  5.814557e+06                    0  \n4  52.470670  13.423893  392941.280176  5.814557e+06                    1  \n5  52.470788  13.432722  393541.280176  5.814557e+06                    6  \n6  52.470904  13.441552  394141.280176  5.814557e+06                    5  \n7  52.474683  13.375159  389641.280176  5.815077e+06                    0  \n8  52.474804  13.383989  390241.280176  5.815077e+06                    0  \n9  52.474924  13.392820  390841.280176  5.815077e+06                    0  "
                    },
                    "execution_count": 31,
                    "metadata": {},
                    "output_type": "execute_result"
                }
            ]
        },
        {
            "metadata": {},
            "cell_type": "markdown",
            "source": "OK, now let's calculate the **distance to nearest Italian restaurant from every area candidate center** (not only those within 300m - we want distance to closest one, regardless of how distant it is)."
        },
        {
            "metadata": {},
            "cell_type": "code",
            "source": "distances_to_italian_restaurant = []\n\nfor area_x, area_y in zip(xs, ys):\n    min_distance = 10000\n    for res in italian_restaurants.values():\n        res_x = res[7]\n        res_y = res[8]\n        d = calc_xy_distance(area_x, area_y, res_x, res_y)\n        if d<min_distance:\n            min_distance = d\n    distances_to_italian_restaurant.append(min_distance)\n\ndf_locations['Distance to Italian restaurant'] = distances_to_italian_restaurant",
            "execution_count": 32,
            "outputs": []
        },
        {
            "metadata": {},
            "cell_type": "code",
            "source": "df_locations.head(10)",
            "execution_count": 33,
            "outputs": [
                {
                    "data": {
                        "text/html": "<div>\n<style scoped>\n    .dataframe tbody tr th:only-of-type {\n        vertical-align: middle;\n    }\n\n    .dataframe tbody tr th {\n        vertical-align: top;\n    }\n\n    .dataframe thead th {\n        text-align: right;\n    }\n</style>\n<table border=\"1\" class=\"dataframe\">\n  <thead>\n    <tr style=\"text-align: right;\">\n      <th></th>\n      <th>Address</th>\n      <th>Distance from center</th>\n      <th>Latitude</th>\n      <th>Longitude</th>\n      <th>X</th>\n      <th>Y</th>\n      <th>Restaurants in area</th>\n      <th>Distance to Italian restaurant</th>\n    </tr>\n  </thead>\n  <tbody>\n    <tr>\n      <th>0</th>\n      <td>Bundesautobahn 100 &amp; Tempelhofer Damm, 12099 B...</td>\n      <td>5992.495307</td>\n      <td>52.470194</td>\n      <td>13.388575</td>\n      <td>390541.280176</td>\n      <td>5.814557e+06</td>\n      <td>4</td>\n      <td>264.408532</td>\n    </tr>\n    <tr>\n      <th>1</th>\n      <td>09R/27L, 12101 Berlin</td>\n      <td>5840.376700</td>\n      <td>52.470314</td>\n      <td>13.397404</td>\n      <td>391141.280176</td>\n      <td>5.814557e+06</td>\n      <td>0</td>\n      <td>830.999331</td>\n    </tr>\n    <tr>\n      <th>2</th>\n      <td>09R/27L, 12049 Berlin</td>\n      <td>5747.173218</td>\n      <td>52.470434</td>\n      <td>13.406234</td>\n      <td>391741.280176</td>\n      <td>5.814557e+06</td>\n      <td>0</td>\n      <td>1269.038823</td>\n    </tr>\n    <tr>\n      <th>3</th>\n      <td>09R/27L, 12049 Berlin</td>\n      <td>5715.767665</td>\n      <td>52.470552</td>\n      <td>13.415063</td>\n      <td>392341.280176</td>\n      <td>5.814557e+06</td>\n      <td>0</td>\n      <td>829.067436</td>\n    </tr>\n    <tr>\n      <th>4</th>\n      <td>Warthestra\u00dfe 23, 12051 Berlin</td>\n      <td>5747.173218</td>\n      <td>52.470670</td>\n      <td>13.423893</td>\n      <td>392941.280176</td>\n      <td>5.814557e+06</td>\n      <td>1</td>\n      <td>575.681166</td>\n    </tr>\n    <tr>\n      <th>5</th>\n      <td>Schierker Str. 19-20, 12051 Berlin</td>\n      <td>5840.376700</td>\n      <td>52.470788</td>\n      <td>13.432722</td>\n      <td>393541.280176</td>\n      <td>5.814557e+06</td>\n      <td>6</td>\n      <td>293.966217</td>\n    </tr>\n    <tr>\n      <th>6</th>\n      <td>Karl-Marx-Stra\u00dfe 213, 12055 Berlin</td>\n      <td>5992.495307</td>\n      <td>52.470904</td>\n      <td>13.441552</td>\n      <td>394141.280176</td>\n      <td>5.814557e+06</td>\n      <td>5</td>\n      <td>317.390305</td>\n    </tr>\n    <tr>\n      <th>7</th>\n      <td>Hessenring 34, 12101 Berlin</td>\n      <td>5855.766389</td>\n      <td>52.474683</td>\n      <td>13.375159</td>\n      <td>389641.280176</td>\n      <td>5.815077e+06</td>\n      <td>0</td>\n      <td>776.047531</td>\n    </tr>\n    <tr>\n      <th>8</th>\n      <td>Thuyring 6, 12101 Berlin</td>\n      <td>5604.462508</td>\n      <td>52.474804</td>\n      <td>13.383989</td>\n      <td>390241.280176</td>\n      <td>5.815077e+06</td>\n      <td>0</td>\n      <td>378.018237</td>\n    </tr>\n    <tr>\n      <th>9</th>\n      <td>09L/27R, 12101 Berlin</td>\n      <td>5408.326913</td>\n      <td>52.474924</td>\n      <td>13.392820</td>\n      <td>390841.280176</td>\n      <td>5.815077e+06</td>\n      <td>0</td>\n      <td>635.252552</td>\n    </tr>\n  </tbody>\n</table>\n</div>",
                        "text/plain": "                                             Address  Distance from center  \\\n0  Bundesautobahn 100 & Tempelhofer Damm, 12099 B...           5992.495307   \n1                              09R/27L, 12101 Berlin           5840.376700   \n2                              09R/27L, 12049 Berlin           5747.173218   \n3                              09R/27L, 12049 Berlin           5715.767665   \n4                      Warthestra\u00dfe 23, 12051 Berlin           5747.173218   \n5                 Schierker Str. 19-20, 12051 Berlin           5840.376700   \n6                 Karl-Marx-Stra\u00dfe 213, 12055 Berlin           5992.495307   \n7                        Hessenring 34, 12101 Berlin           5855.766389   \n8                           Thuyring 6, 12101 Berlin           5604.462508   \n9                              09L/27R, 12101 Berlin           5408.326913   \n\n    Latitude  Longitude              X             Y  Restaurants in area  \\\n0  52.470194  13.388575  390541.280176  5.814557e+06                    4   \n1  52.470314  13.397404  391141.280176  5.814557e+06                    0   \n2  52.470434  13.406234  391741.280176  5.814557e+06                    0   \n3  52.470552  13.415063  392341.280176  5.814557e+06                    0   \n4  52.470670  13.423893  392941.280176  5.814557e+06                    1   \n5  52.470788  13.432722  393541.280176  5.814557e+06                    6   \n6  52.470904  13.441552  394141.280176  5.814557e+06                    5   \n7  52.474683  13.375159  389641.280176  5.815077e+06                    0   \n8  52.474804  13.383989  390241.280176  5.815077e+06                    0   \n9  52.474924  13.392820  390841.280176  5.815077e+06                    0   \n\n   Distance to Italian restaurant  \n0                      264.408532  \n1                      830.999331  \n2                     1269.038823  \n3                      829.067436  \n4                      575.681166  \n5                      293.966217  \n6                      317.390305  \n7                      776.047531  \n8                      378.018237  \n9                      635.252552  "
                    },
                    "execution_count": 33,
                    "metadata": {},
                    "output_type": "execute_result"
                }
            ]
        },
        {
            "metadata": {},
            "cell_type": "markdown",
            "source": "OK, so **on average Italian restaurant can be found within ~500m** from every area center candidate. That's fairly close, so we need to filter our areas carefully!"
        },
        {
            "metadata": {},
            "cell_type": "markdown",
            "source": "Let's crete a map showing **heatmap / density of restaurants** and try to extract some meaningfull info from that. Also, let's show **borders of Berlin boroughs** on our map and a few circles indicating distance of 1km, 2km and 3km from Alexanderplatz."
        },
        {
            "metadata": {},
            "cell_type": "code",
            "source": "berlin_boroughs_url = 'https://raw.githubusercontent.com/m-hoerz/berlin-shapes/master/berliner-bezirke.geojson'\nberlin_boroughs = requests.get(berlin_boroughs_url).json()\n\ndef boroughs_style(feature):\n    return { 'color': 'blue', 'fill': False }",
            "execution_count": 36,
            "outputs": []
        },
        {
            "metadata": {},
            "cell_type": "code",
            "source": "restaurant_latlons = [[res[2], res[3]] for res in restaurants.values()]\n\nitalian_latlons = [[res[2], res[3]] for res in italian_restaurants.values()]",
            "execution_count": 37,
            "outputs": []
        },
        {
            "metadata": {},
            "cell_type": "code",
            "source": "from folium import plugins\nfrom folium.plugins import HeatMap\n\nmap_berlin = folium.Map(location=berlin_center, zoom_start=13)\nfolium.TileLayer('cartodbpositron').add_to(map_berlin) #cartodbpositron cartodbdark_matter\nHeatMap(restaurant_latlons).add_to(map_berlin)\nfolium.Marker(berlin_center).add_to(map_berlin)\nfolium.Circle(berlin_center, radius=1000, fill=False, color='white').add_to(map_berlin)\nfolium.Circle(berlin_center, radius=2000, fill=False, color='white').add_to(map_berlin)\nfolium.Circle(berlin_center, radius=3000, fill=False, color='white').add_to(map_berlin)\nfolium.GeoJson(berlin_boroughs, style_function=boroughs_style, name='geojson').add_to(map_berlin)\nmap_berlin",
            "execution_count": 38,
            "outputs": [
                {
                    "name": "stderr",
                    "output_type": "stream",
                    "text": "WARNING: Some output was deleted.\n"
                }
            ]
        },
        {
            "metadata": {},
            "cell_type": "markdown",
            "source": "Looks like a few pockets of low restaurant density closest to city center can be found **south, south-east and east from Alexanderplatz**. \n\nLet's create another heatmap map showing **heatmap/density of Italian restaurants** only."
        },
        {
            "metadata": {},
            "cell_type": "code",
            "source": "map_berlin = folium.Map(location=berlin_center, zoom_start=13)\nfolium.TileLayer('cartodbpositron').add_to(map_berlin) #cartodbpositron cartodbdark_matter\nHeatMap(italian_latlons).add_to(map_berlin)\nfolium.Marker(berlin_center).add_to(map_berlin)\nfolium.Circle(berlin_center, radius=1000, fill=False, color='white').add_to(map_berlin)\nfolium.Circle(berlin_center, radius=2000, fill=False, color='white').add_to(map_berlin)\nfolium.Circle(berlin_center, radius=3000, fill=False, color='white').add_to(map_berlin)\nfolium.GeoJson(berlin_boroughs, style_function=boroughs_style, name='geojson').add_to(map_berlin)\nmap_berlin",
            "execution_count": 39,
            "outputs": [
                {
                    "name": "stderr",
                    "output_type": "stream",
                    "text": "WARNING: Some output was deleted.\n"
                }
            ]
        },
        {
            "metadata": {},
            "cell_type": "markdown",
            "source": "This map is not so 'hot' (Italian restaurants represent a subset of ~15% of all restaurants in Berlin) but it also indicates higher density of existing Italian restaurants directly north and west from Alexanderplatz, with closest pockets of **low Italian restaurant density positioned east, south-east and south from city center**.\n\nBased on this we will now focus our analysis on areas *south-west, south, south-east and east from Berlin center* - we will move the center of our area of interest and reduce it's size to have a radius of **2.5km**. This places our location candidates mostly in boroughs **Kreuzberg and Friedrichshain** (another potentially interesting borough is **Prenzlauer Berg** with large low restaurant density north-east from city center, however this borough is less interesting to stakeholders as it's mostly residental and less popular with tourists)."
        },
        {
            "metadata": {},
            "cell_type": "markdown",
            "source": "OK. Let us now **filter** those locations: we're interested only in **locations with no more than two restaurants in radius of 250 meters**, and **no Italian restaurants in radius of 400 meters**."
        },
        {
            "metadata": {},
            "cell_type": "code",
            "source": "good_res_count = np.array((df_roi_locations['Restaurants nearby']<=2))\nprint('Locations with no more than two restaurants nearby:', good_res_count.sum())\n\ngood_ita_distance = np.array(df_roi_locations['Distance to Italian restaurant']>=400)\nprint('Locations with no Italian restaurants within 400m:', good_ita_distance.sum())\n\ngood_locations = np.logical_and(good_res_count, good_ita_distance)\nprint('Locations with both conditions met:', good_locations.sum())\n\ndf_good_locations = df_roi_locations[good_locations]\n",
            "execution_count": 98,
            "outputs": [
                {
                    "name": "stdout",
                    "output_type": "stream",
                    "text": "Locations with no more than two restaurants nearby: 798\nLocations with no Italian restaurants within 400m: 380\nLocations with both conditions met: 319\n"
                }
            ]
        },
        {
            "metadata": {},
            "cell_type": "markdown",
            "source": "Let's see how this looks on a map."
        },
        {
            "metadata": {},
            "cell_type": "code",
            "source": "good_latitudes = df_good_locations['Latitude'].values\ngood_longitudes = df_good_locations['Longitude'].values\n\ngood_locations = [[lat, lon] for lat, lon in zip(good_latitudes, good_longitudes)]\n\nmap_berlin = folium.Map(location=roi_center, zoom_start=14)\nfolium.TileLayer('cartodbpositron').add_to(map_berlin)\nHeatMap(restaurant_latlons).add_to(map_berlin)\nfolium.Circle(roi_center, radius=2500, color='white', fill=True, fill_opacity=0.6).add_to(map_berlin)\nfolium.Marker(berlin_center).add_to(map_berlin)\nfor lat, lon in zip(good_latitudes, good_longitudes):\n    folium.CircleMarker([lat, lon], radius=2, color='blue', fill=True, fill_color='blue', fill_opacity=1).add_to(map_berlin) \nfolium.GeoJson(berlin_boroughs, style_function=boroughs_style, name='geojson').add_to(map_berlin)\nmap_berlin",
            "execution_count": 99,
            "outputs": [
                {
                    "name": "stderr",
                    "output_type": "stream",
                    "text": "WARNING: Some output was deleted.\n"
                }
            ]
        },
        {
            "metadata": {},
            "cell_type": "markdown",
            "source": "Looking good. We now have a bunch of locations fairly close to Alexanderplatz (mostly in Kreuzberg, Friedrichshain and south-east corner of Mitte boroughs), and we know that each of those locations has no more than two restaurants in radius of 250m, and no Italian restaurant closer than 400m. Any of those locations is a potential candidate for a new Italian restaurant, at least based on nearby competition.\n\nLet's now show those good locations in a form of heatmap:"
        },
        {
            "metadata": {},
            "cell_type": "code",
            "source": "map_berlin = folium.Map(location=roi_center, zoom_start=14)\nHeatMap(good_locations, radius=25).add_to(map_berlin)\nfolium.Marker(berlin_center).add_to(map_berlin)\nfor lat, lon in zip(good_latitudes, good_longitudes):\n    folium.CircleMarker([lat, lon], radius=2, color='blue', fill=True, fill_color='blue', fill_opacity=1).add_to(map_berlin)\nfolium.GeoJson(berlin_boroughs, style_function=boroughs_style, name='geojson').add_to(map_berlin)\nmap_berlin",
            "execution_count": 100,
            "outputs": [
                {
                    "name": "stderr",
                    "output_type": "stream",
                    "text": "WARNING: Some output was deleted.\n"
                }
            ]
        },
        {
            "metadata": {},
            "cell_type": "markdown",
            "source": "Looking good. What we have now is a clear indication of zones with low number of restaurants in vicinity, and *no* Italian restaurants at all nearby.\n\nLet us now **cluster** those locations to create **centers of zones containing good locations**. Those zones, their centers and addresses will be the final result of our analysis. "
        },
        {
            "metadata": {},
            "cell_type": "code",
            "source": "from sklearn.cluster import KMeans\n\nnumber_of_clusters = 15\n\ngood_xys = df_good_locations[['X', 'Y']].values\nkmeans = KMeans(n_clusters=number_of_clusters, random_state=0).fit(good_xys)\n\ncluster_centers = [xy_to_lonlat(cc[0], cc[1]) for cc in kmeans.cluster_centers_]\n\nmap_berlin = folium.Map(location=roi_center, zoom_start=14)\nfolium.TileLayer('cartodbpositron').add_to(map_berlin)\nHeatMap(restaurant_latlons).add_to(map_berlin)\nfolium.Circle(roi_center, radius=2500, color='white', fill=True, fill_opacity=0.4).add_to(map_berlin)\nfolium.Marker(berlin_center).add_to(map_berlin)\nfor lon, lat in cluster_centers:\n    folium.Circle([lat, lon], radius=500, color='green', fill=True, fill_opacity=0.25).add_to(map_berlin) \nfor lat, lon in zip(good_latitudes, good_longitudes):\n    folium.CircleMarker([lat, lon], radius=2, color='blue', fill=True, fill_color='blue', fill_opacity=1).add_to(map_berlin)\nfolium.GeoJson(berlin_boroughs, style_function=boroughs_style, name='geojson').add_to(map_berlin)\nmap_berlin",
            "execution_count": 101,
            "outputs": [
                {
                    "name": "stderr",
                    "output_type": "stream",
                    "text": "WARNING: Some output was deleted.\n"
                }
            ]
        },
        {
            "metadata": {},
            "cell_type": "markdown",
            "source": "Not bad - our clusters represent groupings of most of the candidate locations and cluster centers are placed nicely in the middle of the zones 'rich' with location candidates.\n\nAddresses of those cluster centers will be a good starting point for exploring the neighborhoods to find the best possible location based on neighborhood specifics.\n\nLet's see those zones on a city map without heatmap, using shaded areas to indicate our clusters:"
        },
        {
            "metadata": {},
            "cell_type": "markdown",
            "source": "## Results and Discussion <a name=\"results\"></a>"
        },
        {
            "metadata": {},
            "cell_type": "markdown",
            "source": "Our analysis shows that although there is a great number of restaurants in Berlin (~2000 in our initial area of interest which was 12x12km around Alexanderplatz), there are pockets of low restaurant density fairly close to city center. Highest concentration of restaurants was detected north and west from Alexanderplatz, so we focused our attention to areas south, south-east and east, corresponding to boroughs Kreuzberg, Friedrichshain and south-east corner of central Mitte borough. Another borough was identified as potentially interesting (Prenzlauer Berg, north-east from Alexanderplatz), but our attention was focused on Kreuzberg and Friedrichshain which offer a combination of popularity among tourists, closeness to city center, strong socio-economic dynamics *and* a number of pockets of low restaurant density.\n\nAfter directing our attention to this more narrow area of interest (covering approx. 5x5km south-east from Alexanderplatz) we first created a dense grid of location candidates (spaced 100m appart); those locations were then filtered so that those with more than two restaurants in radius of 250m and those with an Italian restaurant closer than 400m were removed.\n\nThose location candidates were then clustered to create zones of interest which contain greatest number of location candidates. Addresses of centers of those zones were also generated using reverse geocoding to be used as markers/starting points for more detailed local analysis based on other factors.\n\nResult of all this is 15 zones containing largest number of potential new restaurant locations based on number of and distance to existing venues - both restaurants in general and Italian restaurants particularly. This, of course, does not imply that those zones are actually optimal locations for a new restaurant! Purpose of this analysis was to only provide info on areas close to Berlin center but not crowded with existing restaurants (particularly Italian) - it is entirely possible that there is a very good reason for small number of restaurants in any of those areas, reasons which would make them unsuitable for a new restaurant regardless of lack of competition in the area. Recommended zones should therefore be considered only as a starting point for more detailed analysis which could eventually result in location which has not only no nearby competition but also other factors taken into account and all other relevant conditions met."
        },
        {
            "metadata": {},
            "cell_type": "markdown",
            "source": "## Conclusion <a name=\"conclusion\"></a>"
        },
        {
            "metadata": {},
            "cell_type": "markdown",
            "source": "Purpose of this project was to identify Berlin areas close to center with low number of restaurants (particularly Italian restaurants) in order to aid stakeholders in narrowing down the search for optimal location for a new Italian restaurant. By calculating restaurant density distribution from Foursquare data we have first identified general boroughs that justify further analysis (Kreuzberg and Friedrichshain), and then generated extensive collection of locations which satisfy some basic requirements regarding existing nearby restaurants. Clustering of those locations was then performed in order to create major zones of interest (containing greatest number of potential locations) and addresses of those zone centers were created to be used as starting points for final exploration by stakeholders.\n\nFinal decission on optimal restaurant location will be made by stakeholders based on specific characteristics of neighborhoods and locations in every recommended zone, taking into consideration additional factors like attractiveness of each location (proximity to park or water), levels of noise / proximity to major roads, real estate availability, prices, social and economic dynamics of every neighborhood etc."
        }
    ],
    "metadata": {
        "kernelspec": {
            "name": "python3",
            "display_name": "Python 3.6",
            "language": "python"
        },
        "language_info": {
            "name": "python",
            "version": "3.6.9",
            "mimetype": "text/x-python",
            "codemirror_mode": {
                "name": "ipython",
                "version": 3
            },
            "pygments_lexer": "ipython3",
            "nbconvert_exporter": "python",
            "file_extension": ".py"
        }
    },
    "nbformat": 4,
    "nbformat_minor": 4
}
